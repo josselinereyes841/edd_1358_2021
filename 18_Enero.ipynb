{
  "nbformat": 4,
  "nbformat_minor": 0,
  "metadata": {
    "colab": {
      "name": "18_Enero.ipynb",
      "provenance": [],
      "authorship_tag": "ABX9TyOc/kb3VNrYR+oSJLysAn4y",
      "include_colab_link": true
    },
    "kernelspec": {
      "name": "python3",
      "display_name": "Python 3"
    }
  },
  "cells": [
    {
      "cell_type": "markdown",
      "metadata": {
        "id": "view-in-github",
        "colab_type": "text"
      },
      "source": [
        "<a href=\"https://colab.research.google.com/github/josselinereyes841/edd_1358_2021/blob/master/18_Enero.ipynb\" target=\"_parent\"><img src=\"https://colab.research.google.com/assets/colab-badge.svg\" alt=\"Open In Colab\"/></a>"
      ]
    },
    {
      "cell_type": "code",
      "metadata": {
        "id": "UNfjmxig31Vk"
      },
      "source": [
        "class NodoArbol:\r\n",
        "  def __init__ (self, valor, left = None , right = None):\r\n",
        "    self.dato = valor\r\n",
        "    self.left = left\r\n",
        "    self.right = right"
      ],
      "execution_count": 3,
      "outputs": []
    },
    {
      "cell_type": "code",
      "metadata": {
        "id": "kOt4TaUI328x"
      },
      "source": [
        "class ABBusqueda:\r\n",
        "  def __init__(self):\r\n",
        "    self.__root = None #El root\r\n",
        "\r\n",
        "  def insert(self, valor):\r\n",
        "    if self.__root == None: \r\n",
        "      self.__root = NodoArbol( valor )\r\n",
        "    else: #recursividad :(\r\n",
        "      self.__insert__(self.__root , valor)\r\n",
        "  \r\n",
        "  def __insert__(self , nodo, valor): #Recursividad\r\n",
        "    if nodo.dato == valor :\r\n",
        "      print(\"Nodo ya existente, no inserta: \" , valor)\r\n",
        "\r\n",
        "    elif valor < nodo.dato:\r\n",
        "      #va izquierda\r\n",
        "      if nodo.left == None:\r\n",
        "        nodo.left = NodoArbol(valor, None, None)\r\n",
        "      else:\r\n",
        "        self.__insert__( nodo.left, valor)\r\n",
        "\r\n",
        "    else:\r\n",
        "      #va derecha\r\n",
        "      if nodod.right == None:\r\n",
        "        nodo.right = NodoArbol(valor, None, None)\r\n",
        "      else:\r\n",
        "        self.__insert__( nodo.right, valor)"
      ],
      "execution_count": 4,
      "outputs": []
    },
    {
      "cell_type": "code",
      "metadata": {
        "colab": {
          "base_uri": "https://localhost:8080/"
        },
        "id": "LhrPR67635bG",
        "outputId": "d8098677-09c9-46b0-a465-5f6bf0760764"
      },
      "source": [
        "abb1 = ABBusqueda()\r\n",
        "abb1.insert(40)\r\n",
        "abb1.insert(40)\r\n",
        "abb1.insert(30)\r\n",
        "abb1.insert(30)"
      ],
      "execution_count": 5,
      "outputs": [
        {
          "output_type": "stream",
          "text": [
            "Nodo ya existente, no inserta:  40\n",
            "Nodo ya existente, no inserta:  30\n"
          ],
          "name": "stdout"
        }
      ]
    }
  ]
}