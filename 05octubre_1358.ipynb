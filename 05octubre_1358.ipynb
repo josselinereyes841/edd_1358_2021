{
  "nbformat": 4,
  "nbformat_minor": 0,
  "metadata": {
    "colab": {
      "name": "05octubre_1358.ipynb",
      "provenance": [],
      "authorship_tag": "ABX9TyOQMXK8w4aRX9qVp9Z3bhQ5",
      "include_colab_link": true
    },
    "kernelspec": {
      "name": "python3",
      "display_name": "Python 3"
    }
  },
  "cells": [
    {
      "cell_type": "markdown",
      "metadata": {
        "id": "view-in-github",
        "colab_type": "text"
      },
      "source": [
        "<a href=\"https://colab.research.google.com/github/josselinereyes841/edd_1358_2021/blob/master/05octubre_1358.ipynb\" target=\"_parent\"><img src=\"https://colab.research.google.com/assets/colab-badge.svg\" alt=\"Open In Colab\"/></a>"
      ]
    },
    {
      "cell_type": "code",
      "metadata": {
        "id": "yQpJODUJTINz"
      },
      "source": [
        "precio = 12.5\n",
        "cantidad = 2\n",
        "existencia = True\n",
        "\n",
        "# precio de los cheetos es $12.50 y quiero 2, hay?: True\n",
        "\n",
        "print( \"precio de los cheetos es $\", precio, \"y quiero\",cantidad,\", hay?: \", existencia)\n",
        "\n",
        "#format () de la clase str\n",
        "print( \"precio de los cheetos es {} y quiero {}, hay?: {}\".format(precio,cantidad,existencia))\n",
        "\n",
        "#operador f\"\"\n",
        "print( f\"precio de los cheetos es {precio} y quiero {cantidad}, hay?: {existencia}\")"
      ],
      "execution_count": null,
      "outputs": []
    },
    {
      "cell_type": "markdown",
      "metadata": {
        "id": "dF41OI0sYPz3"
      },
      "source": [
        "#listas \n",
        "declaracion []\n",
        "selector []\n",
        "mutable\n",
        "\n",
        "#tuplas\n",
        "declaracion ()\n",
        "selector []\n",
        "No mutable\n",
        "\n",
        "#diccionarios\n",
        "conjuntos de datos en pares de llave : valor\n",
        "son mutables \n",
        "equivalentes a JSON\n",
        "\n",
        "#conjuntos\n",
        "Son grupo de elementos con la teoria de conjuntos \n",
        "operciones de conjuntos."
      ]
    },
    {
      "cell_type": "markdown",
      "metadata": {
        "id": "8H2zosHJZaDU"
      },
      "source": [
        ""
      ]
    },
    {
      "cell_type": "code",
      "metadata": {
        "id": "eUNQfec1grIN"
      },
      "source": [
        "#listas \n",
        "materias = [\"CyP\",\"DDA\",\"EDD\",\"IS\",\"POO\"]\n",
        "print(materias)\n",
        "print(materias[2])\n",
        "print(materias[-1])\n",
        "print(materias[4])\n",
        "print(materias[::-1])\n",
        "\n",
        "#crear una lista apartir de un string\n",
        "fecha = \"5/octubre/2020\"\n",
        "lista_fecha = fecha.split(\"/\")\n",
        "print(lista_fecha)\n",
        "\n",
        "#crear un string apartir de una lista\n",
        "lista_hora = [\"15\",\"22\",\"45\"]\n",
        "hora = \":\".join(lista_hora)\n",
        "print(hora)\n",
        "\n",
        "print(\"----------\")\n",
        "print(materias)\n",
        "print(lista_fecha)\n",
        "print(hora)\n",
        "\n",
        "materias[0]= \"computadoras y programacion\"\n",
        "print(materias)\n",
        "\n",
        "#agregar\n",
        "materias.append(\"calidad\")  \n",
        "print(materias)\n",
        "\n",
        "materias.insert(2,\"emprendimiento\")\n",
        "print(materias)\n",
        "\n",
        "materia = materias.pop()\n",
        "print(materia)\n",
        "print(materias)\n",
        "\n",
        "materia = materias.pop(1)\n",
        "print(materia)\n",
        "print(materias)\n",
        "\n",
        "#vaciar listas\n",
        "materias.clear()\n",
        "print(materias)\n",
        "\n",
        "\n",
        "#slicing[::]\n",
        "print(\"Slicing\")\n",
        "numeros = [0,1,2,3,4,5,6,7,8,9,10]\n",
        "print(numeros)\n",
        "print(numeros[4:9:1])\n",
        "print(numeros[4::1])\n",
        "print(numeros[4:9])\n",
        "\n",
        "#sustituir un segmento con slicind [0,1,2,3,-2,-9,10]\n",
        "numeros[4:9:1] = [-2,-3,\"a\",\"b\"]\n",
        "print(numeros)"
      ],
      "execution_count": null,
      "outputs": []
    },
    {
      "cell_type": "code",
      "metadata": {
        "id": "naHkqz8yiJ1f",
        "outputId": "3808e3bb-b897-4bb2-ddb0-52f3a873a269",
        "colab": {
          "base_uri": "https://localhost:8080/",
          "height": 51
        }
      },
      "source": [
        "autos = [\"Mazda\",\"Honda\",\"Acura\",\"Ford\",\"Volkwagen\",\"Kia\"]\n",
        "telefonos = [\"Iphone X\",\"Huawei Mate 30\",\"Xiaomi S10\",\"Motorola G8\"]\n",
        "sistemas_operativos =[\"Windows\",\"Linux\",\"Android\",\"IOS\",\"MacOs\"]\n",
        "\n",
        "lista_2d =[autos,telefonos,sistemas_operativos]\n",
        "print(lista_2d)\n",
        "print(lista_2d[1][1])"
      ],
      "execution_count": 30,
      "outputs": [
        {
          "output_type": "stream",
          "text": [
            "[['Mazda', 'Honda', 'Acura', 'Ford', 'Volkwagen', 'Kia'], ['Iphone X', 'Huawei P30', 'Xiaomi', 'Motorola G8'], ['Windows', 'Linux', 'Android', 'IOS', 'MacOs']]\n",
            "Huawei P30\n"
          ],
          "name": "stdout"
        }
      ]
    }
  ]
}