{
  "nbformat": 4,
  "nbformat_minor": 0,
  "metadata": {
    "colab": {
      "name": "11_Enero_1358.ipynb",
      "provenance": [],
      "authorship_tag": "ABX9TyNi81oFKs6uPmHVaPANE+1C",
      "include_colab_link": true
    },
    "kernelspec": {
      "name": "python3",
      "display_name": "Python 3"
    }
  },
  "cells": [
    {
      "cell_type": "markdown",
      "metadata": {
        "id": "view-in-github",
        "colab_type": "text"
      },
      "source": [
        "<a href=\"https://colab.research.google.com/github/josselinereyes841/edd_1358_2021/blob/master/11_Enero_1358.ipynb\" target=\"_parent\"><img src=\"https://colab.research.google.com/assets/colab-badge.svg\" alt=\"Open In Colab\"/></a>"
      ]
    },
    {
      "cell_type": "code",
      "metadata": {
        "id": "tFW2WJ9LeVYC"
      },
      "source": [
        "class NodoArbol:\r\n",
        "    def __init__( self , dato , hijo_izq = None , hijo_der= None ):\r\n",
        "        self.dato = dato\r\n",
        "        self.hijo_izq = hijo_izq\r\n",
        "        self.hijo_der = hijo_der"
      ],
      "execution_count": 15,
      "outputs": []
    },
    {
      "cell_type": "code",
      "metadata": {
        "colab": {
          "base_uri": "https://localhost:8080/"
        },
        "id": "RLwZQ1mueYKF",
        "outputId": "53918b75-b208-4186-c5d0-bf5772179c0d"
      },
      "source": [
        "arbol = NodoArbol(\"R\")\r\n",
        "arbol.hijo_izq = NodoArbol(\"C\")\r\n",
        "arbol.hijo_der = NodoArbol(\"H\")\r\n",
        "#Cómo imprimir el nodo raiz\r\n",
        "print(arbol.dato)\r\n",
        "#Cómo imprimir el hijo izquierdo\r\n",
        "print(arbol.hijo_izq.dato)\r\n",
        "#Cómo imprimir el hijo derecho\r\n",
        "print(arbol.hijo_der.dato)"
      ],
      "execution_count": 16,
      "outputs": [
        {
          "output_type": "stream",
          "text": [
            "R\n",
            "C\n",
            "H\n"
          ],
          "name": "stdout"
        }
      ]
    },
    {
      "cell_type": "code",
      "metadata": {
        "colab": {
          "base_uri": "https://localhost:8080/"
        },
        "id": "49e0LjjAeabz",
        "outputId": "7fef448f-5998-4493-c7a8-06d9f9bdd2f7"
      },
      "source": [
        "arbol_v2 = NodoArbol(\"R\",NodoArbol(\"C\"),NodoArbol(\"H\"))\r\n",
        "#Cómo imprimir el nodo raiz\r\n",
        "print(arbol.dato)\r\n",
        "#Cómo imprimir el hijo izquierdo\r\n",
        "print(arbol.hijo_izq.dato)\r\n",
        "#Cómo imprimir el hijo derecho\r\n",
        "print(arbol.hijo_der.dato)"
      ],
      "execution_count": 17,
      "outputs": [
        {
          "output_type": "stream",
          "text": [
            "R\n",
            "C\n",
            "H\n"
          ],
          "name": "stdout"
        }
      ]
    },
    {
      "cell_type": "code",
      "metadata": {
        "colab": {
          "base_uri": "https://localhost:8080/"
        },
        "id": "6i2Fx5FlecgA",
        "outputId": "6753ad18-b316-4469-9e12-a6487c6dcc79"
      },
      "source": [
        "#Ejercicio 2\r\n",
        "arbol2 = NodoArbol(4,NodoArbol(3,NodoArbol(2,NodoArbol(2))),NodoArbol(5))\r\n",
        "#Raiz\r\n",
        "print(arbol2.dato)\r\n",
        "#Hijos\r\n",
        "print(arbol2.hijo_izq.dato)\r\n",
        "print(arbol2.hijo_der.dato)\r\n",
        "#Último valor\r\n",
        "print(arbol2.hijo_izq.hijo_izq.hijo_izq.dato)\r\n",
        "print(\"---------------------------\")\r\n",
        "\r\n",
        "#Imprimir el último dato mediante un while\r\n",
        "aux = arbol2\r\n",
        "while aux.hijo_izq != None:\r\n",
        "    aux = aux.hijo_izq\r\n",
        "print(aux.dato)"
      ],
      "execution_count": 18,
      "outputs": [
        {
          "output_type": "stream",
          "text": [
            "4\n",
            "3\n",
            "5\n",
            "2\n",
            "---------------------------\n",
            "2\n"
          ],
          "name": "stdout"
        }
      ]
    },
    {
      "cell_type": "code",
      "metadata": {
        "id": "ceJ54DrPejBE"
      },
      "source": [
        "class Nodo_Arbol2:\r\n",
        "    def __init__( self , dato , hijo_izq = None , hijo_cen = None, hijo_der= None ):\r\n",
        "        self.dato = dato\r\n",
        "        self.hijo_izq = hijo_izq\r\n",
        "        self.hijo_cen = hijo_cen\r\n",
        "        self.hijo_der = hijo_der"
      ],
      "execution_count": 19,
      "outputs": []
    },
    {
      "cell_type": "code",
      "metadata": {
        "id": "WGqm3qf-el4i"
      },
      "source": [
        "arbol = Nodo_Arbol2(\"R\" , Nodo_Arbol2(\"I\" , None , Nodo_Arbol2(\"X\")) , Nodo_Arbol2(\"C\" , Nodo_Arbol2(\"Y\")) , Nodo_Arbol2(\"D\" , None , None , Nodo_Arbol2(\"Z\")))"
      ],
      "execution_count": 20,
      "outputs": []
    }
  ]
}