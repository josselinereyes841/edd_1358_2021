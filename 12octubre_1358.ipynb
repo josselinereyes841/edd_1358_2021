{
  "nbformat": 4,
  "nbformat_minor": 0,
  "metadata": {
    "colab": {
      "name": "12octubre_1358.ipynb",
      "provenance": [],
      "collapsed_sections": [],
      "authorship_tag": "ABX9TyMYUJ3+ECFS7McLyUzcZTwg",
      "include_colab_link": true
    },
    "kernelspec": {
      "name": "python3",
      "display_name": "Python 3"
    }
  },
  "cells": [
    {
      "cell_type": "markdown",
      "metadata": {
        "id": "view-in-github",
        "colab_type": "text"
      },
      "source": [
        "<a href=\"https://colab.research.google.com/github/josselinereyes841/edd_1358_2021/blob/master/12octubre_1358.ipynb\" target=\"_parent\"><img src=\"https://colab.research.google.com/assets/colab-badge.svg\" alt=\"Open In Colab\"/></a>"
      ]
    },
    {
      "cell_type": "code",
      "metadata": {
        "id": "YLH5uJn2WEds",
        "outputId": "746dca47-94ea-4272-d9eb-0a5766d02f97",
        "colab": {
          "base_uri": "https://localhost:8080/",
          "height": 121
        }
      },
      "source": [
        "#diccionarios (continuacion)\n",
        "cliente_banco = {\n",
        "          \"id\" : 1,\n",
        "          \"nombres\" : [\"Mario\", \"Alberto\"],\n",
        "          \"paterno\" : \"Gonzalez\",\n",
        "          \"Materno\" : \"Villalobos\",\n",
        "          \"telefonos\" :{\n",
        "                        \"casa\" : 5558574910,\n",
        "                        \"celular\" : 5549873765,\n",
        "                        \"trabajo\" : 5540932871\n",
        "                       },\n",
        "           \"Activo\" : True,\n",
        "           \"balance\" : 549246.58,\n",
        "           \"tarjetas\" : ({ \"Tipo\" : \"Debito\", \"Saldo\" : 249800.59},\n",
        "                         {\"Tipo\" : \"Credito\", \"Saldo\" : 16500 } )\n",
        "                        \n",
        "}\n",
        "print(cliente_banco)  \n",
        "cliente_banco[\"balance\"] = cliente_banco[\"balance\"] -9000.58\n",
        "print(cliente_banco) \n",
        "\n",
        "cliente_banco[\"tarjetas\"] = ({ \"Tipo\" : \"Debito\", \"Saldo\" : 249800.59},\n",
        "                             {\"Tipo\" : \"Credito\", \"Saldo\" : 16500 },\n",
        "                             {\"Tipo\" : \"Credito\", \"Nivel\" : \"Oro\", \"Saldo\" : 500000} )\n",
        "print(cliente_banco)\n",
        "\n",
        "cliente_banco[\"direccion\"] = {\"Calle\" : \"Joaquin herrera\", \"Numero\" : 150, \"Delegacion\" : \"GAM\"}\n",
        "print(cliente_banco)\n",
        "\n",
        "cliente_banco.pop(\"tarjetas\")\n",
        "print(cliente_banco)"
      ],
      "execution_count": 2,
      "outputs": [
        {
          "output_type": "stream",
          "text": [
            "{'id': 1, 'nombres': ['Mario', 'Alberto'], 'paterno': 'Gonzalez', 'Materno': 'Villalobos', 'telefonos': {'casa': 5558574910, 'celular': 5549873765, 'trabajo': 5540932871}, 'Activo': True, 'balance': 549246.58, 'tarjetas': ({'Tipo': 'Debito', 'Saldo': 249800.59}, {'Tipo': 'Credito', 'Saldo': 16500})}\n",
            "{'id': 1, 'nombres': ['Mario', 'Alberto'], 'paterno': 'Gonzalez', 'Materno': 'Villalobos', 'telefonos': {'casa': 5558574910, 'celular': 5549873765, 'trabajo': 5540932871}, 'Activo': True, 'balance': 540246.0, 'tarjetas': ({'Tipo': 'Debito', 'Saldo': 249800.59}, {'Tipo': 'Credito', 'Saldo': 16500})}\n",
            "{'id': 1, 'nombres': ['Mario', 'Alberto'], 'paterno': 'Gonzalez', 'Materno': 'Villalobos', 'telefonos': {'casa': 5558574910, 'celular': 5549873765, 'trabajo': 5540932871}, 'Activo': True, 'balance': 540246.0, 'tarjetas': ({'Tipo': 'Debito', 'Saldo': 249800.59}, {'Tipo': 'Credito', 'Saldo': 16500}, {'Tipo': 'Credito', 'Nivel': 'Oro', 'Saldo': 500000})}\n",
            "{'id': 1, 'nombres': ['Mario', 'Alberto'], 'paterno': 'Gonzalez', 'Materno': 'Villalobos', 'telefonos': {'casa': 5558574910, 'celular': 5549873765, 'trabajo': 5540932871}, 'Activo': True, 'balance': 540246.0, 'tarjetas': ({'Tipo': 'Debito', 'Saldo': 249800.59}, {'Tipo': 'Credito', 'Saldo': 16500}, {'Tipo': 'Credito', 'Nivel': 'Oro', 'Saldo': 500000}), 'direccion': {'Calle': 'Joaquin herrera', 'Numero': 150, 'Delegacion': 'GAM'}}\n",
            "{'id': 1, 'nombres': ['Mario', 'Alberto'], 'paterno': 'Gonzalez', 'Materno': 'Villalobos', 'telefonos': {'casa': 5558574910, 'celular': 5549873765, 'trabajo': 5540932871}, 'Activo': True, 'balance': 540246.0, 'direccion': {'Calle': 'Joaquin herrera', 'Numero': 150, 'Delegacion': 'GAM'}}\n"
          ],
          "name": "stdout"
        }
      ]
    },
    {
      "cell_type": "code",
      "metadata": {
        "id": "9CpTNxQtdb3g",
        "outputId": "b569f94b-c425-4d68-8fe6-e8f0da42f51e",
        "colab": {
          "base_uri": "https://localhost:8080/",
          "height": 490
        }
      },
      "source": [
        "llaves = cliente_banco.keys()\n",
        "print(llaves)\n",
        "print(type(llaves))\n",
        "for x in llaves:\n",
        "    print(x)\n",
        "    \n",
        "valores = cliente_banco.values()\n",
        "for v in valores:\n",
        "  print(v)\n",
        "\n",
        "pares = cliente_banco.items()\n",
        "print(pares)\n",
        "\n",
        "for elem in pares:\n",
        "    print(f\"{elem[0]} = {elem[1] } \")"
      ],
      "execution_count": 3,
      "outputs": [
        {
          "output_type": "stream",
          "text": [
            "dict_keys(['id', 'nombres', 'paterno', 'Materno', 'telefonos', 'Activo', 'balance', 'direccion'])\n",
            "<class 'dict_keys'>\n",
            "id\n",
            "nombres\n",
            "paterno\n",
            "Materno\n",
            "telefonos\n",
            "Activo\n",
            "balance\n",
            "direccion\n",
            "1\n",
            "['Mario', 'Alberto']\n",
            "Gonzalez\n",
            "Villalobos\n",
            "{'casa': 5558574910, 'celular': 5549873765, 'trabajo': 5540932871}\n",
            "True\n",
            "540246.0\n",
            "{'Calle': 'Joaquin herrera', 'Numero': 150, 'Delegacion': 'GAM'}\n",
            "dict_items([('id', 1), ('nombres', ['Mario', 'Alberto']), ('paterno', 'Gonzalez'), ('Materno', 'Villalobos'), ('telefonos', {'casa': 5558574910, 'celular': 5549873765, 'trabajo': 5540932871}), ('Activo', True), ('balance', 540246.0), ('direccion', {'Calle': 'Joaquin herrera', 'Numero': 150, 'Delegacion': 'GAM'})])\n",
            "id = 1 \n",
            "nombres = ['Mario', 'Alberto'] \n",
            "paterno = Gonzalez \n",
            "Materno = Villalobos \n",
            "telefonos = {'casa': 5558574910, 'celular': 5549873765, 'trabajo': 5540932871} \n",
            "Activo = True \n",
            "balance = 540246.0 \n",
            "direccion = {'Calle': 'Joaquin herrera', 'Numero': 150, 'Delegacion': 'GAM'} \n"
          ],
          "name": "stdout"
        }
      ]
    },
    {
      "cell_type": "code",
      "metadata": {
        "id": "Uqr3gLC1g_Ex",
        "outputId": "336f413e-5041-417b-fbf2-db539104cb35",
        "colab": {
          "base_uri": "https://localhost:8080/",
          "height": 34
        }
      },
      "source": [
        "fruta = {\"nombre\":\"manzana\",\"color\":\"rojo\",\"estado\":\"chihuahua\"}\n",
        "otras_caracteristicas = {\"vitamina\":\"D\"}\n",
        "fruta.update(otras_caracteristicas)\n",
        "print(fruta)"
      ],
      "execution_count": 4,
      "outputs": [
        {
          "output_type": "stream",
          "text": [
            "{'nombre': 'manzana', 'color': 'rojo', 'estado': 'chihuahua', 'vitamina': 'D'}\n"
          ],
          "name": "stdout"
        }
      ]
    },
    {
      "cell_type": "markdown",
      "metadata": {
        "id": "L_PjWy2WiPT3"
      },
      "source": [
        "#Funciones\n",
        "- recibe de 0 a n argumentos de entrada\n",
        "- regresa solo un valor, aunque ese valor sea None.\n",
        "- tien un nombre único en el contexto.\n",
        "- se puede hacer solo dos cosas con funciones:\n",
        "   - definirla\n",
        "   - llamarla"
      ]
    },
    {
      "cell_type": "code",
      "metadata": {
        "id": "J1D-eLn9i9EZ",
        "outputId": "3b0e476b-8424-4310-e652-68871e5aa739",
        "colab": {
          "base_uri": "https://localhost:8080/",
          "height": 50
        }
      },
      "source": [
        "def suma(a,b):\n",
        "    return a+b\n",
        "\n",
        "def saludar():\n",
        "    print(\"Hola,¿cómo estás?\")\n",
        "    return None\n",
        "\n",
        "x = 10\n",
        "y = 20\n",
        "c = suma(x,y)\n",
        "\n",
        "print(c)\n",
        "saludar()"
      ],
      "execution_count": null,
      "outputs": [
        {
          "output_type": "stream",
          "text": [
            "30\n",
            "Hola,¿cómo estás?\n"
          ],
          "name": "stdout"
        }
      ]
    },
    {
      "cell_type": "markdown",
      "metadata": {
        "id": "enGUbcgekrUZ"
      },
      "source": [
        "# None y las funciones\n",
        "Aprovechar el uso de None en paso de parámetros.\n",
        "\n"
      ]
    },
    {
      "cell_type": "code",
      "metadata": {
        "id": "bPtsOknUk5H2",
        "outputId": "ab31f205-d014-4b19-e196-bd0df3ed366e",
        "colab": {
          "base_uri": "https://localhost:8080/",
          "height": 50
        }
      },
      "source": [
        "def calcular(base , veces):\n",
        "    if base != None:\n",
        "       resultado = base * veces\n",
        "    else:\n",
        "      resultado = \"desconocido\"\n",
        "    return resultado\n",
        "\n",
        "print(calcular(4,3))\n",
        "print(calcular(None,3))"
      ],
      "execution_count": 5,
      "outputs": [
        {
          "output_type": "stream",
          "text": [
            "12\n",
            "desconocido\n"
          ],
          "name": "stdout"
        }
      ]
    }
  ]
}