{
  "nbformat": 4,
  "nbformat_minor": 0,
  "metadata": {
    "colab": {
      "name": "13_enero_2021.ipynb",
      "provenance": [],
      "authorship_tag": "ABX9TyM8cft56xIEw/CPZKSMrRKh",
      "include_colab_link": true
    },
    "kernelspec": {
      "name": "python3",
      "display_name": "Python 3"
    }
  },
  "cells": [
    {
      "cell_type": "markdown",
      "metadata": {
        "id": "view-in-github",
        "colab_type": "text"
      },
      "source": [
        "<a href=\"https://colab.research.google.com/github/josselinereyes841/edd_1358_2021/blob/master/13_enero_2021.ipynb\" target=\"_parent\"><img src=\"https://colab.research.google.com/assets/colab-badge.svg\" alt=\"Open In Colab\"/></a>"
      ]
    },
    {
      "cell_type": "code",
      "metadata": {
        "colab": {
          "base_uri": "https://localhost:8080/"
        },
        "id": "gaSop9Hck7xp",
        "outputId": "67a5c535-3efa-4dd6-c1c2-5f6a9deb9b91"
      },
      "source": [
        "def factorial (n):\r\n",
        "    if n == 0:\r\n",
        "        return 1\r\n",
        "    else:\r\n",
        "        return factorial (n-1)*n\r\n",
        "\r\n",
        "for num in range (21):\r\n",
        "    print(f\"Factorial de {num}: {factorial(num)}\")"
      ],
      "execution_count": 9,
      "outputs": [
        {
          "output_type": "stream",
          "text": [
            "Factorial de 0: 1\n",
            "Factorial de 1: 1\n",
            "Factorial de 2: 2\n",
            "Factorial de 3: 6\n",
            "Factorial de 4: 24\n",
            "Factorial de 5: 120\n",
            "Factorial de 6: 720\n",
            "Factorial de 7: 5040\n",
            "Factorial de 8: 40320\n",
            "Factorial de 9: 362880\n",
            "Factorial de 10: 3628800\n",
            "Factorial de 11: 39916800\n",
            "Factorial de 12: 479001600\n",
            "Factorial de 13: 6227020800\n",
            "Factorial de 14: 87178291200\n",
            "Factorial de 15: 1307674368000\n",
            "Factorial de 16: 20922789888000\n",
            "Factorial de 17: 355687428096000\n",
            "Factorial de 18: 6402373705728000\n",
            "Factorial de 19: 121645100408832000\n",
            "Factorial de 20: 2432902008176640000\n"
          ],
          "name": "stdout"
        }
      ]
    },
    {
      "cell_type": "code",
      "metadata": {
        "colab": {
          "base_uri": "https://localhost:8080/"
        },
        "id": "KpENy8h9xB2j",
        "outputId": "3dc967e1-cede-4435-8e73-020ac67ff3b4"
      },
      "source": [
        "def printRev(n):\r\n",
        "    if n>0:\r\n",
        "        printRev(n-1)\r\n",
        "        print(n)\r\n",
        "printRev(3)"
      ],
      "execution_count": 11,
      "outputs": [
        {
          "output_type": "stream",
          "text": [
            "1\n",
            "2\n",
            "3\n"
          ],
          "name": "stdout"
        }
      ]
    },
    {
      "cell_type": "code",
      "metadata": {
        "colab": {
          "base_uri": "https://localhost:8080/"
        },
        "id": "SzmqvpVMxIOR",
        "outputId": "17ae0898-1896-4793-de3c-36edf22ca31f"
      },
      "source": [
        "def fibonacci(n):\r\n",
        "    if n == 0 or n==1:\r\n",
        "        return n\r\n",
        "    if n>1:\r\n",
        "        return (fibonacci(n-1)+fibonacci(n-2))\r\n",
        "    \r\n",
        "print(fibonacci(12))"
      ],
      "execution_count": 12,
      "outputs": [
        {
          "output_type": "stream",
          "text": [
            "144\n"
          ],
          "name": "stdout"
        }
      ]
    }
  ]
}