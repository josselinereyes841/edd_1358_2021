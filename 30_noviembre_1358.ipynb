{
  "nbformat": 4,
  "nbformat_minor": 0,
  "metadata": {
    "colab": {
      "name": "30_noviembre_1358.ipynb",
      "provenance": [],
      "authorship_tag": "ABX9TyMNIJrglYHih2wdigJnybF/",
      "include_colab_link": true
    },
    "kernelspec": {
      "name": "python3",
      "display_name": "Python 3"
    }
  },
  "cells": [
    {
      "cell_type": "markdown",
      "metadata": {
        "id": "view-in-github",
        "colab_type": "text"
      },
      "source": [
        "<a href=\"https://colab.research.google.com/github/josselinereyes841/edd_1358_2021/blob/master/30_noviembre_1358.ipynb\" target=\"_parent\"><img src=\"https://colab.research.google.com/assets/colab-badge.svg\" alt=\"Open In Colab\"/></a>"
      ]
    },
    {
      "cell_type": "code",
      "metadata": {
        "id": "e3eigFgm7Kk-"
      },
      "source": [
        "class Stack:\n",
        "  def __init__(self):\n",
        "    self.__data = []\n",
        "    self.__size = 0\n",
        "\n",
        "  def pop(self):\n",
        "    return self.__data.pop()\n",
        "\n",
        "  def peek (self):\n",
        "    return self.__data [-1]\n",
        "\n",
        "  def push (self, value):\n",
        "    self.__data.append(value)\n",
        "\n",
        "  def to_string(self):\n",
        "    print(\"-----\")\n",
        "    for dato in self.__data[::-1]:\n",
        "      print(f\"|{dato}|\")\n",
        "      print(\"-----\")\n",
        "\n"
      ],
      "execution_count": 4,
      "outputs": []
    },
    {
      "cell_type": "code",
      "metadata": {
        "id": "usOtR0QRACDH"
      },
      "source": [
        "pl = Stack()\n",
        "pl.push(34)\n",
        "pl.push(10)\n",
        "pl.push(45)\n",
        "pl.push(4)\n",
        "pl.push(23)\n",
        "pl.push(33)\n",
        "valor = pl.pop()\n",
        "print(valor *2)\n",
        "pl.to_string() \n",
        "valor = pl.peek()\n",
        "print(valor *2)\n",
        "pl.to_string()"
      ],
      "execution_count": null,
      "outputs": []
    },
    {
      "cell_type": "code",
      "metadata": {
        "id": "E1BGfKvHB3QO"
      },
      "source": [
        "#aplicaciones de la estructura Stack\n",
        "# 1.-validación de paréntesis balanceados '(' , '{' y '['\n",
        "\n",
        "b = 3 * (5 + (4 /2))\n",
        "\n"
      ],
      "execution_count": null,
      "outputs": []
    }
  ]
}