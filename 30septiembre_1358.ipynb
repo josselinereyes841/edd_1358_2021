{
  "nbformat": 4,
  "nbformat_minor": 0,
  "metadata": {
    "colab": {
      "name": "30septiembre_1358.ipynb",
      "provenance": [],
      "authorship_tag": "ABX9TyO7j54bgCB+qEnAsk16aPtR",
      "include_colab_link": true
    },
    "kernelspec": {
      "name": "python3",
      "display_name": "Python 3"
    }
  },
  "cells": [
    {
      "cell_type": "markdown",
      "metadata": {
        "id": "view-in-github",
        "colab_type": "text"
      },
      "source": [
        "<a href=\"https://colab.research.google.com/github/josselinereyes841/edd_1358_2021/blob/master/30septiembre_1358.ipynb\" target=\"_parent\"><img src=\"https://colab.research.google.com/assets/colab-badge.svg\" alt=\"Open In Colab\"/></a>"
      ]
    },
    {
      "cell_type": "markdown",
      "metadata": {
        "id": "11CVmppxsiX1"
      },
      "source": [
        "# Fundamentos de Python 3\n",
        "## Tipos de datos básicos\n",
        "edad =13\n",
        "nombre = \"Josseline\"\n",
        "estatura = 1.71\n",
        "tiene_ine = True\n",
        "\n",
        "###compuestos\n",
        "\n",
        "#### Listas \n",
        "Son mutables\n",
        "se accede a los elementos y a el índice \n",
        "los elementos pueden ser de diferente tipo\n",
        "lista_ejemplo = {\"manzana\" , 1.71 , True , [\"rojo\", \"azul\" ] ]\n",
        "\n",
        "#### Tuplas\n",
        "son inmutables\n",
        "se accede a los elementos y a el índice \n",
        "los elementos pueden ser de diferente tipo\n",
        "tupla_ejemplo = ( \"root\" , \"123.322.45.4\" , \"123dios\" )\n",
        "\n",
        "#### Diccionarios \n",
        "son equivivalentes a los JSON de JS\n",
        "\n",
        "#### Sets\n",
        "Son datos agrupados"
      ]
    },
    {
      "cell_type": "code",
      "metadata": {
        "id": "cVf1BpToubtN"
      },
      "source": [
        "lista_ejemplo = [\"manzana\" , 1.71, True, [\"rojo\", \"azul\"] ]\n",
        "print(lista_ejemplo[1])\n",
        "print(lista_ejemplo[3])\n",
        "print(lista_ejemplo[3][1])\n",
        "lista_ejemplo[0] = \"Manzana\"\n",
        "print(lista_ejemplo)\n",
        "#agregar un elemento al final\n",
        "lista_ejemplo.append(\"Iphone\")\n",
        "print(lista_ejemplo)\n",
        "\n",
        "#saca el ultimo elemento\n",
        "valor = lista_ejemplo.pop()\n",
        "print(valor)\n",
        "print(lista_ejemplo)\n",
        "\n",
        "#documentacion del tipo de dato lista dir() y help()\n",
        "print(\"---------------------------------------------------------\")\n",
        "\n",
        "lista_ejemplo.insert(1,'Huawei')\n",
        "print(lista_ejemplo)\n",
        "\n",
        "conteo = lista_ejemplo.count(\"Huawei\")\n",
        "print(conteo)\n",
        "\n",
        "colores = ['azul', 'rosa', 'fiusha', 'negro']\n",
        "lista_ejemplo.append(colores)\n",
        "\n",
        "print(lista_ejemplo)\n",
        "\n",
        "#con extend fusionan dos listas\n",
        "lista_ejemplo.extend(colores)\n",
        "print(lista_ejemplo)\n"
      ],
      "execution_count": null,
      "outputs": []
    }
  ]
}