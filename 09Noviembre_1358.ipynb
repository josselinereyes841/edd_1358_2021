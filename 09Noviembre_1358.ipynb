{
  "nbformat": 4,
  "nbformat_minor": 0,
  "metadata": {
    "colab": {
      "name": "09Noviembre_1358.ipynb",
      "provenance": [],
      "authorship_tag": "ABX9TyOGFPS1cwwUXTL5w20KQ+Ks",
      "include_colab_link": true
    },
    "kernelspec": {
      "name": "python3",
      "display_name": "Python 3"
    }
  },
  "cells": [
    {
      "cell_type": "markdown",
      "metadata": {
        "id": "view-in-github",
        "colab_type": "text"
      },
      "source": [
        "<a href=\"https://colab.research.google.com/github/josselinereyes841/edd_1358_2021/blob/master/09Noviembre_1358.ipynb\" target=\"_parent\"><img src=\"https://colab.research.google.com/assets/colab-badge.svg\" alt=\"Open In Colab\"/></a>"
      ]
    },
    {
      "cell_type": "code",
      "metadata": {
        "id": "BmJaTx0_4cPL",
        "outputId": "d095e36f-6967-49a2-d2f8-edf4b92d5c84",
        "colab": {
          "base_uri": "https://localhost:8080/"
        }
      },
      "source": [
        "class Nodo:\n",
        "\tdef __init__(self,dato):\n",
        "\t\tself.__dato = dato\n",
        "\t\tself.__siguiente = None\n",
        "\tdef get_dato(self): #Regresa el dato\n",
        "\t\treturn self.__dato\n",
        "\tdef set_dato(self,d):\n",
        "\t\tself.__dato = d \n",
        "\tdef get_siguiente(self):\n",
        "\t\treturn self.__siguiente\n",
        "\tdef set_siguiente(self,d):\n",
        "\t\tself.__siguiente = d\n",
        "\n",
        "\tdef to_String(self):\n",
        "\t\treturn \" | \" + str(self.__dato) + \" | \" + str(self.__siguiente) + \" | -->\"\n",
        "\tdef show( self ):\n",
        "\t\tcurr_node = self # Head\n",
        "\t\tprint(\" Inicio de la estructura ligada:\")\n",
        "\t\tprint(\"|\" + str(curr_node.get_dato() ) + \"| -->\" , end =\"\" )\n",
        "\t\twhile( curr_node.get_siguiente() != None ):\n",
        "\t\t\tcurr_node = curr_node.get_siguiente()\n",
        "\t\t\tprint(\"|\" + str(curr_node.get_dato() ) + \"| -->\" , end =\"\" )\n",
        "\t\tprint(\"\\nFin\")\n",
        "# Ejemplo 1\n",
        "a = Nodo( 10 )\n",
        "a.show()\n",
        "\n",
        "\n",
        "# ejemplo 2\n",
        "\n",
        "a.set_siguiente( Nodo(20) )\n",
        "a.show()"
      ],
      "execution_count": 1,
      "outputs": [
        {
          "output_type": "stream",
          "text": [
            " Inicio de la estructura ligada:\n",
            "|10| -->\n",
            "Fin\n",
            " Inicio de la estructura ligada:\n",
            "|10| -->|20| -->\n",
            "Fin\n"
          ],
          "name": "stdout"
        }
      ]
    }
  ]
}