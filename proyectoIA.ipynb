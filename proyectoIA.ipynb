{
  "nbformat": 4,
  "nbformat_minor": 0,
  "metadata": {
    "colab": {
      "name": "proyectoIA.ipynb",
      "provenance": [],
      "collapsed_sections": [],
      "authorship_tag": "ABX9TyOfRYMpIJRyMITALkX3008J",
      "include_colab_link": true
    },
    "kernelspec": {
      "name": "python3",
      "display_name": "Python 3"
    },
    "language_info": {
      "name": "python"
    }
  },
  "cells": [
    {
      "cell_type": "markdown",
      "metadata": {
        "id": "view-in-github",
        "colab_type": "text"
      },
      "source": [
        "<a href=\"https://colab.research.google.com/github/josselinereyes841/edd_1358_2021/blob/master/proyectoIA.ipynb\" target=\"_parent\"><img src=\"https://colab.research.google.com/assets/colab-badge.svg\" alt=\"Open In Colab\"/></a>"
      ]
    },
    {
      "cell_type": "code",
      "metadata": {
        "colab": {
          "base_uri": "https://localhost:8080/"
        },
        "id": "nj0mR6N61py0",
        "outputId": "89bb33f1-ca85-4c20-86ea-4a7cad1870a3"
      },
      "source": [
        "print(\"Hola bienvenido\")\n",
        "NOMBRE= str( input (\"¿cúal es tu nombre?:\"))\n",
        "PRB= int( input (\"Dime del 1 al 10 que tan grave es tu problema\"+ NOMBRE))\n",
        "AYD= bool(int(input(\"Quieres platicar (0 NO/ 1 SI)?:\")))\n",
        "if PRB >= 7 and AYD == True:\n",
        "    print(\"Te agendaremos una cita\")\n",
        "    print(\"Puedo llamarte a tu numero\")\n",
        "    NUM= int( input (\"Dime tu numero por favor:\")) \n",
        "    print(\"Un psicologo se pondrá en contacto contigo en menos de una hora\") \n",
        "\n",
        "else:\n",
        "    print(\"Esperamos que pronto quieras una asesoria\")\n",
        "    print(\"Necesitas hablarlo con alguien\")\n",
        "print(\"Fin del programa\")"
      ],
      "execution_count": null,
      "outputs": [
        {
          "output_type": "stream",
          "name": "stdout",
          "text": [
            "Hola bienvenido\n",
            "¿cúal es tu nombre?:Joss\n",
            "Dime del 1 al 10 que tan grave es tu problemaJoss8\n",
            "Quieres platicar (0 NO/ 1 SI)?:1\n",
            "Te agendaremos una cita\n",
            "Puedo llamarte a tu numero\n",
            "Dime tu numero por favor:55195625\n",
            "Un psicologo se pondrá en contacto contigo en menos de una hora\n",
            "Fin del programa\n"
          ]
        }
      ]
    }
  ]
}