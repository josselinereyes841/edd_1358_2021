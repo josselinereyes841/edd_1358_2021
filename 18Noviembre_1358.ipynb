{
  "nbformat": 4,
  "nbformat_minor": 0,
  "metadata": {
    "colab": {
      "name": "18Noviembre_1358.ipynb",
      "provenance": [],
      "authorship_tag": "ABX9TyND1k4fjUuXYkDxgncXK6f0",
      "include_colab_link": true
    },
    "kernelspec": {
      "name": "python3",
      "display_name": "Python 3"
    }
  },
  "cells": [
    {
      "cell_type": "markdown",
      "metadata": {
        "id": "view-in-github",
        "colab_type": "text"
      },
      "source": [
        "<a href=\"https://colab.research.google.com/github/josselinereyes841/edd_1358_2021/blob/master/18Noviembre_1358.ipynb\" target=\"_parent\"><img src=\"https://colab.research.google.com/assets/colab-badge.svg\" alt=\"Open In Colab\"/></a>"
      ]
    },
    {
      "cell_type": "code",
      "metadata": {
        "colab": {
          "base_uri": "https://localhost:8080/"
        },
        "id": "gAYGuScBir4-",
        "outputId": "7522ee6e-3390-48d3-c5b6-8b057aeb6445"
      },
      "source": [
        "#Codigo 18 de noviembre \n",
        "\n",
        "#ESTRUCTURA ARBOL\n",
        "#Estructura simplemente ligada ( no doblemente ) \n",
        "class Nodo:\n",
        "    def __init__( self , dato, siguiente = None):\n",
        "        self.dato = dato\n",
        "        self.siguiente = siguiente\n",
        "\n",
        "head = Nodo(10,Nodo(20,Nodo(30,Nodo(40,Nodo(50)))))\n",
        "\n",
        "\n",
        "#Insertar el nodo 35 despues de 30\n",
        "'''\n",
        "b = Nodo(35)\n",
        "b.siguiente = head.siguiente.siguiente.siguiente \n",
        "head.siguiente.siguiente.siguiente = b \n",
        "'''\n",
        "\n",
        "anterior = head.siguiente.siguiente\n",
        "\n",
        "nuevo = Nodo(35)\n",
        "nuevo.siguiente = anterior.siguiente\n",
        "anterior.siguiente = nuevo\n",
        "\n",
        "#Eliminar el 20\n",
        "head.siguiente = head.siguiente.siguiente\n",
        "\n",
        "\n",
        "\n",
        "curr_node = head\n",
        "\n",
        "print(curr_node.dato , \"-->\" , end=\"\")\n",
        "while( curr_node.siguiente != None ):\n",
        "    curr_node = curr_node.siguiente\n",
        "    print(curr_node.dato, \"-->\" , end=\"\")\n",
        "print(\"\")\n",
        "\n",
        "\n",
        "class Nodo:\n",
        "    def __init__( self , dato, siguiente = None):\n",
        "        self.dato = dato\n",
        "        self.siguiente = siguiente\n",
        "class LinkedList:\n",
        "\tdef __init__(self):\n",
        "\t\tself.__head = None"
      ],
      "execution_count": 1,
      "outputs": [
        {
          "output_type": "stream",
          "text": [
            "10 -->30 -->35 -->40 -->50 -->\n"
          ],
          "name": "stdout"
        }
      ]
    }
  ]
}