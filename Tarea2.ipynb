{
  "nbformat": 4,
  "nbformat_minor": 0,
  "metadata": {
    "colab": {
      "name": "Untitled2.ipynb",
      "provenance": [],
      "authorship_tag": "ABX9TyP7DODEz0QzRfz3zBqK0tKj",
      "include_colab_link": true
    },
    "kernelspec": {
      "name": "python3",
      "display_name": "Python 3"
    }
  },
  "cells": [
    {
      "cell_type": "markdown",
      "metadata": {
        "id": "view-in-github",
        "colab_type": "text"
      },
      "source": [
        "<a href=\"https://colab.research.google.com/github/josselinereyes841/edd_1358_2021/blob/master/Tarea2.ipynb\" target=\"_parent\"><img src=\"https://colab.research.google.com/assets/colab-badge.svg\" alt=\"Open In Colab\"/></a>"
      ]
    },
    {
      "cell_type": "code",
      "metadata": {
        "id": "JpTZdAua8-3S"
      },
      "source": [
        " \n",
        "class Array:\n",
        " \n",
        "    def __init__(self, tam):\n",
        "        self.__datos = [0 for x in range(tam)]  #Generador\n",
        " \n",
        "    def get_item(self, index):\n",
        "        dato = 0\n",
        "        if index >= 0 and index < len(self.__datos):\n",
        "            dato = self.__datos[index]\n",
        "        else:\n",
        "            print(\"Error en el indice\")\n",
        "        return dato\n",
        " \n",
        "    def set_item(self, dato, index):\n",
        "        if index >= 0 and index < len(self.__datos):\n",
        "            self.__datos[index] = dato\n",
        "        else:\n",
        "            print(\"Error en el indice\")\n",
        " \n",
        "    def get_Length(self):\n",
        "        return len(self.__datos)\n",
        " \n",
        "    def clear(self, dato):\n",
        "        self.__datos = [dato for x in range(tam)]  \n",
        " \n",
        "    def __iter__(self):\n",
        "        return _getIterator(self.__datos)\n",
        " \n",
        "class _getIterator:\n",
        "    def __init__(self, arreglo):\n",
        "        self.__arreglo = arreglo\n",
        "        self.__indice_actual = 0\n",
        " \n",
        "    def __iter__(self):\n",
        "        return self\n",
        " \n",
        "    def __next__(self):\n",
        "        if self.__indice_actual < len(self.__arreglo):\n",
        "            dato = self.__arreglo[self.__indice_actual]\n",
        "            self.__indice_actual += 1\n",
        "            return dato\n",
        "        else:\n",
        "            raise StopIteration\n",
        " \n",
        "    def getIterator(self):\n",
        "        return _getIterator(self.__datos)"
      ],
      "execution_count": 1,
      "outputs": []
    },
    {
      "cell_type": "code",
      "metadata": {
        "id": "SZkxyw2C9YAh"
      },
      "source": [
        " \n",
        "class Empleado:\n",
        "    def __init__(self, num, nom, pat, mat, he, sb, anio):\n",
        "        self.__num_trabajador = num\n",
        "        self.__nombres = nom\n",
        "        self.__paterno = pat\n",
        "        self.__materno = mat\n",
        "        self.__horas_extra = he\n",
        "        self.__sueldo_base = sb\n",
        "        self.__anio_ingreso = anio\n",
        "    # Metodos set y get de los datos del empleado\n",
        "    def getNum_trabajador ( self ):\n",
        "        return self.__num_trabajador\n",
        "    def setNum_trabajador ( self, num ):\n",
        "        self.__num_trabajador = num\n",
        " \n",
        "    def getNombre( self ):\n",
        "        return self.__nombres\n",
        " \n",
        "    def setNombre(self, nom):\n",
        "        self.__nombres = nom\n",
        " \n",
        "    def getPaterno(self):\n",
        "        return self.__paterno\n",
        " \n",
        "    def setPaterno(self, pat):\n",
        "        self.__paterno = pat\n",
        " \n",
        "    def getMaterno(self):\n",
        "        return self.__materno\n",
        " \n",
        "    def setMaterno(self, mat):\n",
        "        self.__materno = mat\n",
        " \n",
        "    def getHextra(self):\n",
        "        return self.__horas_extra\n",
        " \n",
        "    def setHextra(self, he):\n",
        "        self.__horas_extra = he\n",
        " \n",
        "    def getSbase(self):\n",
        "        return self.__sueldo_base\n",
        " \n",
        "    def setSbase(self, sb):\n",
        "        self.__sueldo_base = sb\n",
        " \n",
        "    def getAingreso(self):\n",
        "        return self.__anio_ingreso\n",
        " \n",
        "    def setAingreso(self, anio):\n",
        "        self.__anio_ingreso = anio\n",
        "# ----------------------------------------------------------------------------------------------------------------\n",
        "   \n",
        "    def to_string(self):\n",
        "        return f\"{self.__num_trabajador}  {self.__nombres} {self.__paterno} {self.__materno} \" \\\n",
        "               f\"{self.__horas_extra} {self.__sueldo_base} {self.__anio_ingreso}\"\n",
        " \n",
        "#-----------------------------------------------------------------------------------------------------------------\n",
        "    \n",
        "    def sueldo_mensual( self ):\n",
        "        antiguedad = ( (2020 - self.__anio_ingreso) * 0.3 ) * self.__sueldo_base\n",
        "        hextra = self.__horas_extra * 276.5\n",
        "        return self.__sueldo_base + hextra + antiguedad"
      ],
      "execution_count": 2,
      "outputs": []
    },
    {
      "cell_type": "code",
      "metadata": {
        "id": "WAAyBso19l9Z"
      },
      "source": [
        " \n",
        "class Sueldos:\n",
        "    def __init__(self):\n",
        "        self.__data = None\n",
        "    def cargar_datos(self, ruta_archivo):\n",
        "        archivo = open(ruta_archivo, \"rt\", encoding='latin1')\n",
        "        lineas = archivo.readlines()\n",
        "        archivo.close()\n",
        "        self.__data = Array(len(lineas) - 1)\n",
        "        for iter in range(1,len(lineas)):\n",
        "            lineas[iter] = lineas[iter].split(\",\")\n",
        "            for posicion in [-1,-2,-3]:\n",
        "                lineas[iter][posicion] = int(lineas[iter][posicion])\n",
        "            empledado = Empleado(lineas[iter][0],lineas[iter][1],lineas[iter][2],\n",
        "                                 lineas[iter][3],lineas[iter][4],lineas[iter][5],lineas[iter][6])\n",
        "            self.__data.set_item(empledado,iter-1)\n",
        "    def calcular_sueldos(self):\n",
        "        print(\"Sueldos de empleados: \")\n",
        "        for emp in self.__data:\n",
        "            print(f\"{emp.getNombre()} {emp.getPaterno()} {emp.getMaterno()} Sueldo = {emp.sueldo_mensual()}\")\n",
        " \n",
        "    def reportar_mayor_ant(self):\n",
        "        mayor = 0\n",
        "        for emp in self.__data:\n",
        "            antiguedad = 2020 - emp.getAingreso()\n",
        "            if antiguedad > mayor:\n",
        "                mayor = antiguedad\n",
        "        print(\"Empledo(s) con mayor antiguedad:\")\n",
        "        for emp in self.__data:\n",
        "            antiguedad = 2020 - emp.getAingreso()\n",
        "            if antiguedad == mayor:\n",
        "                print(f\"{emp.getNombre()} {emp.getPaterno()} {emp.getMaterno()} ant = {mayor} años\")\n",
        "    def reportar_menor_ant(self):\n",
        "        menor = 100\n",
        "        for emp in self.__data:\n",
        "            antiguedad = 2020 - emp.getAingreso()\n",
        "            if antiguedad < menor:\n",
        "                menor = antiguedad\n",
        "        print(\"Empledo(s) con menor antiguedad:\")\n",
        "        for emp in self.__data:\n",
        "            antiguedad = 2020 - emp.getAingreso()\n",
        "            if antiguedad == menor:\n",
        "                print(f\"{emp.getNombre()} {emp.getPaterno()} {emp.getMaterno()} ant = {menor} años\")"
      ],
      "execution_count": 3,
      "outputs": []
    },
    {
      "cell_type": "code",
      "metadata": {
        "id": "5g4xJJP89oSv",
        "outputId": "ea87aef6-5e94-4385-bb45-02151c9d3d4e",
        "colab": {
          "base_uri": "https://localhost:8080/",
          "height": 688
        }
      },
      "source": [
        " \n",
        "ejemplo = Sueldos()\n",
        "ejemplo.cargar_datos('junio.dat')\n",
        "ejemplo.calcular_sueldos()\n",
        "print(\"+++++++++++++++++++++++++++++++++++++++++++++++++++++++++++++++\")\n",
        "ejemplo.reportar_mayor_ant()\n",
        "print(\"+++++++++++++++++++++++++++++++++++++++++++++++++++++++++++++++\")\n",
        "ejemplo.reportar_menor_ant()"
      ],
      "execution_count": 4,
      "outputs": [
        {
          "output_type": "error",
          "ename": "FileNotFoundError",
          "evalue": "ignored",
          "traceback": [
            "\u001b[0;31m---------------------------------------------------------------------------\u001b[0m",
            "\u001b[0;31mFileNotFoundError\u001b[0m                         Traceback (most recent call last)",
            "\u001b[0;32m<ipython-input-4-bd8a5c08e822>\u001b[0m in \u001b[0;36m<module>\u001b[0;34m()\u001b[0m\n\u001b[1;32m      1\u001b[0m \u001b[0;34m\u001b[0m\u001b[0m\n\u001b[1;32m      2\u001b[0m \u001b[0mejemplo\u001b[0m \u001b[0;34m=\u001b[0m \u001b[0mSueldos\u001b[0m\u001b[0;34m(\u001b[0m\u001b[0;34m)\u001b[0m\u001b[0;34m\u001b[0m\u001b[0;34m\u001b[0m\u001b[0m\n\u001b[0;32m----> 3\u001b[0;31m \u001b[0mejemplo\u001b[0m\u001b[0;34m.\u001b[0m\u001b[0mcargar_datos\u001b[0m\u001b[0;34m(\u001b[0m\u001b[0;34m'junio.dat'\u001b[0m\u001b[0;34m)\u001b[0m\u001b[0;34m\u001b[0m\u001b[0;34m\u001b[0m\u001b[0m\n\u001b[0m\u001b[1;32m      4\u001b[0m \u001b[0mejemplo\u001b[0m\u001b[0;34m.\u001b[0m\u001b[0mcalcular_sueldos\u001b[0m\u001b[0;34m(\u001b[0m\u001b[0;34m)\u001b[0m\u001b[0;34m\u001b[0m\u001b[0;34m\u001b[0m\u001b[0m\n\u001b[1;32m      5\u001b[0m \u001b[0mprint\u001b[0m\u001b[0;34m(\u001b[0m\u001b[0;34m\"+++++++++++++++++++++++++++++++++++++++++++++++++++++++++++++++\"\u001b[0m\u001b[0;34m)\u001b[0m\u001b[0;34m\u001b[0m\u001b[0;34m\u001b[0m\u001b[0m\n",
            "\u001b[0;32m<ipython-input-3-4cef75b688f3>\u001b[0m in \u001b[0;36mcargar_datos\u001b[0;34m(self, ruta_archivo)\u001b[0m\n\u001b[1;32m      4\u001b[0m        \u001b[0mself\u001b[0m\u001b[0;34m.\u001b[0m\u001b[0m__data\u001b[0m \u001b[0;34m=\u001b[0m \u001b[0;32mNone\u001b[0m\u001b[0;34m\u001b[0m\u001b[0;34m\u001b[0m\u001b[0m\n\u001b[1;32m      5\u001b[0m    \u001b[0;32mdef\u001b[0m \u001b[0mcargar_datos\u001b[0m\u001b[0;34m(\u001b[0m\u001b[0mself\u001b[0m\u001b[0;34m,\u001b[0m \u001b[0mruta_archivo\u001b[0m\u001b[0;34m)\u001b[0m\u001b[0;34m:\u001b[0m\u001b[0;34m\u001b[0m\u001b[0;34m\u001b[0m\u001b[0m\n\u001b[0;32m----> 6\u001b[0;31m        \u001b[0marchivo\u001b[0m \u001b[0;34m=\u001b[0m \u001b[0mopen\u001b[0m\u001b[0;34m(\u001b[0m\u001b[0mruta_archivo\u001b[0m\u001b[0;34m,\u001b[0m \u001b[0;34m\"rt\"\u001b[0m\u001b[0;34m,\u001b[0m \u001b[0mencoding\u001b[0m\u001b[0;34m=\u001b[0m\u001b[0;34m'latin1'\u001b[0m\u001b[0;34m)\u001b[0m\u001b[0;34m\u001b[0m\u001b[0;34m\u001b[0m\u001b[0m\n\u001b[0m\u001b[1;32m      7\u001b[0m        \u001b[0mlineas\u001b[0m \u001b[0;34m=\u001b[0m \u001b[0marchivo\u001b[0m\u001b[0;34m.\u001b[0m\u001b[0mreadlines\u001b[0m\u001b[0;34m(\u001b[0m\u001b[0;34m)\u001b[0m\u001b[0;34m\u001b[0m\u001b[0;34m\u001b[0m\u001b[0m\n\u001b[1;32m      8\u001b[0m        \u001b[0marchivo\u001b[0m\u001b[0;34m.\u001b[0m\u001b[0mclose\u001b[0m\u001b[0;34m(\u001b[0m\u001b[0;34m)\u001b[0m\u001b[0;34m\u001b[0m\u001b[0;34m\u001b[0m\u001b[0m\n",
            "\u001b[0;31mFileNotFoundError\u001b[0m: [Errno 2] No such file or directory: 'junio.dat'"
          ]
        }
      ]
    }
  ]
}