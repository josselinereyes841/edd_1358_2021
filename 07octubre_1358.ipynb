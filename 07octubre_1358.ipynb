{
  "nbformat": 4,
  "nbformat_minor": 0,
  "metadata": {
    "colab": {
      "name": "07octubre_1358.ipynb",
      "provenance": [],
      "authorship_tag": "ABX9TyMuxPlEeJvCHONvQvt6f93d",
      "include_colab_link": true
    },
    "kernelspec": {
      "name": "python3",
      "display_name": "Python 3"
    }
  },
  "cells": [
    {
      "cell_type": "markdown",
      "metadata": {
        "id": "view-in-github",
        "colab_type": "text"
      },
      "source": [
        "<a href=\"https://colab.research.google.com/github/josselinereyes841/edd_1358_2021/blob/master/07octubre_1358.ipynb\" target=\"_parent\"><img src=\"https://colab.research.google.com/assets/colab-badge.svg\" alt=\"Open In Colab\"/></a>"
      ]
    },
    {
      "cell_type": "code",
      "metadata": {
        "id": "JAhZ5xvCSOAe",
        "outputId": "e384e2b0-c512-4144-eb45-626a243e65aa",
        "colab": {
          "base_uri": "https://localhost:8080/"
        }
      },
      "source": [
        "#listas multidimensionales.\n",
        "autos = [\"honda\", \"mazda\", \"nissan\", \"kia\"]\n",
        "telefonos = [\"iphone 11\", \"huawei Y9s\", \"samsung S10+\", \"Motorola onoe fusion+\"]\n",
        "sistemas_operativos = [\"linux\", \"windows\", \"IOs\", \"Android\", \"MacOs\"]\n",
        "procesadores = [[\"intel\",3.1,True], [\"AMD\",2.7,False], [\"motorola\",1.1,False] ]\n",
        "\n",
        "lista_nd = [autos,telefonos,sistemas_operativos,procesadores]\n",
        "print(lista_nd)\n",
        "print(lista_nd[2][2])\n",
        "print(lista_nd[1][1][3:6])\n",
        "print(lista_nd[3][1][1])\n",
        "print(lista_nd[3][2][0][2:6])\n",
        "print(lista_nd[3][0][0][-2:-5:-1])\n",
        "\n",
        "colores = [\"azul\", \"negro\", \"amarillo\", \"rojo\"]\n",
        "perros = [\"xolo\", \"pitbull\"]\n",
        "nueva = colores + perros\n",
        "\n",
        "print(nueva)\n",
        "print(colores)\n",
        "print(perros)\n",
        "\n",
        "#con extend\n",
        "colores.extend(perros)\n",
        "print(colores)\n",
        "\n",
        "#unpacking de listas\n",
        "print(\"unpacking\")\n",
        "datod_personales = [\"Mario Alberto\", \"Gonzalez\", \"Villalobos\", 19, 1.80, False]\n",
        "nombres,paterno, materno, edad, estatura, fuma = datod_personales\n",
        "print(f\"Nombre:{nombres}\\nEdad:{edad}\")#listas multidimensionales.\n",
        "autos = [\"honda\", \"mazda\", \"nissan\", \"kia\"]\n",
        "telefonos = [\"iphone 11\", \"huawei Y9s\", \"samsung S10+\", \"Motorola onoe fusion+\"]\n",
        "sistemas_operativos = [\"linux\", \"windows\", \"IOs\", \"Android\", \"MacOs\"]\n",
        "procesadores = [[\"intel\",3.1,True], [\"AMD\",2.7,False], [\"motorola\",1.1,False] ]\n",
        "\n",
        "lista_nd = [autos,telefonos,sistemas_operativos,procesadores]\n",
        "print(lista_nd)\n",
        "print(lista_nd[2][2])\n",
        "print(lista_nd[1][1][3:6])\n",
        "print(lista_nd[3][1][1])\n",
        "print(lista_nd[3][2][0][2:6])\n",
        "print(lista_nd[3][0][0][-2:-5:-1])\n",
        "\n",
        "colores = [\"azul\", \"negro\", \"amarillo\", \"rojo\"]\n",
        "perros = [\"xolo\", \"pitbull\"]\n",
        "nueva = colores + perros\n",
        "\n",
        "print(nueva)\n",
        "print(colores)\n",
        "print(perros)\n",
        "\n",
        "#con extend\n",
        "colores.extend(perros)\n",
        "print(colores)\n",
        "\n",
        "#unpacking de listas\n",
        "print(\"unpacking\")\n",
        "datod_personales = [\"Mario Alberto\", \"Gonzalez\", \"Villalobos\", 19, 1.80, False]\n",
        "nombres,paterno, materno, edad, estatura, fuma = datod_personales\n",
        "print(f\"Nombre:{nombres}\\nEdad:{edad}\")"
      ],
      "execution_count": 1,
      "outputs": [
        {
          "output_type": "stream",
          "text": [
            "[['honda', 'mazda', 'nissan', 'kia'], ['iphone 11', 'huawei Y9s', 'samsung S10+', 'Motorola onoe fusion+'], ['linux', 'windows', 'IOs', 'Android', 'MacOs'], [['intel', 3.1, True], ['AMD', 2.7, False], ['motorola', 1.1, False]]]\n",
            "IOs\n",
            "wei\n",
            "2.7\n",
            "toro\n",
            "etn\n",
            "['azul', 'negro', 'amarillo', 'rojo', 'xolo', 'pitbull']\n",
            "['azul', 'negro', 'amarillo', 'rojo']\n",
            "['xolo', 'pitbull']\n",
            "['azul', 'negro', 'amarillo', 'rojo', 'xolo', 'pitbull']\n",
            "unpacking\n",
            "Nombre:Mario Alberto\n",
            "Edad:19\n",
            "[['honda', 'mazda', 'nissan', 'kia'], ['iphone 11', 'huawei Y9s', 'samsung S10+', 'Motorola onoe fusion+'], ['linux', 'windows', 'IOs', 'Android', 'MacOs'], [['intel', 3.1, True], ['AMD', 2.7, False], ['motorola', 1.1, False]]]\n",
            "IOs\n",
            "wei\n",
            "2.7\n",
            "toro\n",
            "etn\n",
            "['azul', 'negro', 'amarillo', 'rojo', 'xolo', 'pitbull']\n",
            "['azul', 'negro', 'amarillo', 'rojo']\n",
            "['xolo', 'pitbull']\n",
            "['azul', 'negro', 'amarillo', 'rojo', 'xolo', 'pitbull']\n",
            "unpacking\n",
            "Nombre:Mario Alberto\n",
            "Edad:19\n"
          ],
          "name": "stdout"
        }
      ]
    },
    {
      "cell_type": "code",
      "metadata": {
        "id": "NopJSdO_6MHN",
        "outputId": "78aaa4f6-6534-42cf-c1a5-5efaeb5ef28d",
        "colab": {
          "base_uri": "https://localhost:8080/"
        }
      },
      "source": [
        "#Tuplas\n",
        "bd = ('127.0.0.1', 'root', 'toor', '12345')\n",
        "print(f\"El usuario de la bd es {bd[1]} \")\n",
        "\n",
        "#bd[1 = 'User1']\n",
        "print(bd[1:3])\n",
        "\n",
        "#Diccionarios\n",
        "alumno = {'nombre': 'mario', 'edad':19, 'carrera' :'ico'}\n",
        "print(alumno)\n",
        "print(alumno[\"edad\"])\n",
        "alumno = {\n",
        "    'nombre': 'Mario',\n",
        "    'edad': 19,\n",
        "    'carrera': 'ico',\n",
        "    'direccion': {\n",
        "        'calle': 'bosques de africa',\n",
        "        'numero': 133,\n",
        "        'delegacion': 'nezahualcoyotl',\n",
        "        'estado': 15,\n",
        "        'nombre_estado': 'Estado de Mexico'\n",
        "\n",
        "    }\n",
        "}\n",
        "print(alumno)\n",
        "print(alumno['direccion']['delegacion'])\n",
        "print(alumno['direccion']['delegacion'][3:7])\n",
        "print(alumno['direccion']['delegacion'][3:7].upper())\n",
        "alumno['edad'] = 25\n",
        "print(alumno)\n",
        "alumno['promedio'] = 9.2\n",
        "print(alumno)\n",
        "alumno['direccion']['cp'] = 17170\n",
        "print(alumno)\n",
        "alumno['materia'] ={'nombre': 'CyP', 'calificacion': 10}\n",
        "print(alumno)\n",
        "\n",
        "cliente = {'ID': 1, 'Nombre': 'Carlos Slim'}\n",
        "print(cliente)"
      ],
      "execution_count": 2,
      "outputs": [
        {
          "output_type": "stream",
          "text": [
            "El usuario de la bd es root \n",
            "('root', 'toor')\n",
            "{'nombre': 'mario', 'edad': 19, 'carrera': 'ico'}\n",
            "19\n",
            "{'nombre': 'Mario', 'edad': 19, 'carrera': 'ico', 'direccion': {'calle': 'bosques de africa', 'numero': 133, 'delegacion': 'nezahualcoyotl', 'estado': 15, 'nombre_estado': 'Estado de Mexico'}}\n",
            "nezahualcoyotl\n",
            "ahua\n",
            "AHUA\n",
            "{'nombre': 'Mario', 'edad': 25, 'carrera': 'ico', 'direccion': {'calle': 'bosques de africa', 'numero': 133, 'delegacion': 'nezahualcoyotl', 'estado': 15, 'nombre_estado': 'Estado de Mexico'}}\n",
            "{'nombre': 'Mario', 'edad': 25, 'carrera': 'ico', 'direccion': {'calle': 'bosques de africa', 'numero': 133, 'delegacion': 'nezahualcoyotl', 'estado': 15, 'nombre_estado': 'Estado de Mexico'}, 'promedio': 9.2}\n",
            "{'nombre': 'Mario', 'edad': 25, 'carrera': 'ico', 'direccion': {'calle': 'bosques de africa', 'numero': 133, 'delegacion': 'nezahualcoyotl', 'estado': 15, 'nombre_estado': 'Estado de Mexico', 'cp': 17170}, 'promedio': 9.2}\n",
            "{'nombre': 'Mario', 'edad': 25, 'carrera': 'ico', 'direccion': {'calle': 'bosques de africa', 'numero': 133, 'delegacion': 'nezahualcoyotl', 'estado': 15, 'nombre_estado': 'Estado de Mexico', 'cp': 17170}, 'promedio': 9.2, 'materia': {'nombre': 'CyP', 'calificacion': 10}}\n",
            "{'ID': 1, 'Nombre': 'Carlos Slim'}\n"
          ],
          "name": "stdout"
        }
      ]
    }
  ]
}