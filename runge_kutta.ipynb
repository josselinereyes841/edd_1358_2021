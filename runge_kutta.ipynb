{
  "nbformat": 4,
  "nbformat_minor": 0,
  "metadata": {
    "colab": {
      "name": "runge_kutta.ipynb",
      "provenance": [],
      "authorship_tag": "ABX9TyPYE0mME52ScSbijq5A1JYa",
      "include_colab_link": true
    },
    "kernelspec": {
      "name": "python3",
      "display_name": "Python 3"
    }
  },
  "cells": [
    {
      "cell_type": "markdown",
      "metadata": {
        "id": "view-in-github",
        "colab_type": "text"
      },
      "source": [
        "<a href=\"https://colab.research.google.com/github/josselinereyes841/edd_1358_2021/blob/master/runge_kutta.ipynb\" target=\"_parent\"><img src=\"https://colab.research.google.com/assets/colab-badge.svg\" alt=\"Open In Colab\"/></a>"
      ]
    },
    {
      "cell_type": "code",
      "metadata": {
        "id": "0cp2BrAhn9BS",
        "colab": {
          "base_uri": "https://localhost:8080/"
        },
        "outputId": "5c7f9da7-f79b-4d9f-e8aa-0fa43d43f265"
      },
      "source": [
        "def funcion(x, y):\r\n",
        "    return (2 * (x * y)) +(x)\r\n",
        "\r\n",
        "\r\n",
        "def rungeKutta(h, x0, y0):\r\n",
        "    x = x0 + h\r\n",
        "    k1 = h * funcion(x0, y0)\r\n",
        "    k2 = h * funcion(x0 + (h / 2), y0 + (k1 / 2))\r\n",
        "    k3 = h * funcion(x0 + (h / 2), y0 + (k2 / 2))\r\n",
        "    k4 = h * funcion(x0 + h, y0 + k3)\r\n",
        "    pendiente = (k1 + 2 * k2 + 2 * k3 + k4) / 6\r\n",
        "    y = y0 + pendiente\r\n",
        "    return [x, y, k1, k2, k3, k4, pendiente]\r\n",
        "\r\n",
        "\r\n",
        "def main():\r\n",
        "    yAprox = float(input(\"Aproximar 'y' a << \"))\r\n",
        "    h = float(input(\"Tamano paso (h) << \"))\r\n",
        "    y0 = float(input(\"y0 << \"))\r\n",
        "    x0 = float(input(\"x0 << \"))\r\n",
        "\r\n",
        "    iteracion = 0\r\n",
        "    while (x0 < yAprox):\r\n",
        "        resultadoIteracion = rungeKutta(h, x0, y0)\r\n",
        "        iteracion += 1\r\n",
        "        print\r\n",
        "        \"==================================\"\r\n",
        "        print(\"Iteracion %d\\n\" % (iteracion))\r\n",
        "        print(\"K1   = %f\" % (resultadoIteracion[2]))\r\n",
        "        print(\"K2   = %f\" % (resultadoIteracion[3]))\r\n",
        "        print(\"K3   = %f\" % (resultadoIteracion[4]))\r\n",
        "        print(\"K4   = %f\" % (resultadoIteracion[5]))\r\n",
        "        print(\"X(%d) = %f\" % (iteracion, resultadoIteracion[0]))\r\n",
        "        print(\"Y(%d) = %f\" % (iteracion, resultadoIteracion[1]))\r\n",
        "        print(\"==================================\")\r\n",
        "\r\n",
        "        y0 = resultadoIteracion[1]\r\n",
        "        x0 = resultadoIteracion[0]\r\n",
        "\r\n",
        "\r\n",
        "if (__name__ == \"__main__\"):\r\n",
        "    main()\r\n"
      ],
      "execution_count": 4,
      "outputs": [
        {
          "output_type": "stream",
          "text": [
            "Aproximar 'y' a << 0.50\n",
            "Tamano paso (h) << 0.1\n",
            "y0 << 0.50\n",
            "x0 << 0.00\n",
            "Iteracion 1\n",
            "\n",
            "K1   = 0.000000\n",
            "K2   = 0.010000\n",
            "K3   = 0.010050\n",
            "K4   = 0.020201\n",
            "X(1) = 0.100000\n",
            "Y(1) = 0.510050\n",
            "==================================\n",
            "Iteracion 2\n",
            "\n",
            "K1   = 0.020201\n",
            "K2   = 0.030605\n",
            "K3   = 0.030761\n",
            "K4   = 0.041632\n",
            "X(2) = 0.200000\n",
            "Y(2) = 0.540811\n",
            "==================================\n",
            "Iteracion 3\n",
            "\n",
            "K1   = 0.041632\n",
            "K2   = 0.053081\n",
            "K3   = 0.053368\n",
            "K4   = 0.065651\n",
            "X(3) = 0.300000\n",
            "Y(3) = 0.594174\n",
            "==================================\n",
            "Iteracion 4\n",
            "\n",
            "K1   = 0.065650\n",
            "K2   = 0.078890\n",
            "K3   = 0.079353\n",
            "K4   = 0.093882\n",
            "X(4) = 0.400000\n",
            "Y(4) = 0.673511\n",
            "==================================\n",
            "Iteracion 5\n",
            "\n",
            "K1   = 0.093881\n",
            "K2   = 0.109841\n",
            "K3   = 0.110559\n",
            "K4   = 0.128407\n",
            "X(5) = 0.500000\n",
            "Y(5) = 0.784025\n",
            "==================================\n"
          ],
          "name": "stdout"
        }
      ]
    }
  ]
}