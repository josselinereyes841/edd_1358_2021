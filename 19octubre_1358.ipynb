{
  "nbformat": 4,
  "nbformat_minor": 0,
  "metadata": {
    "colab": {
      "name": "19octubre_1358.ipynb",
      "provenance": [],
      "collapsed_sections": [],
      "authorship_tag": "ABX9TyMROALvBc3aC+ezgXzfhntX",
      "include_colab_link": true
    },
    "kernelspec": {
      "name": "python3",
      "display_name": "Python 3"
    }
  },
  "cells": [
    {
      "cell_type": "markdown",
      "metadata": {
        "id": "view-in-github",
        "colab_type": "text"
      },
      "source": [
        "<a href=\"https://colab.research.google.com/github/josselinereyes841/edd_1358_2021/blob/master/19octubre_1358.ipynb\" target=\"_parent\"><img src=\"https://colab.research.google.com/assets/colab-badge.svg\" alt=\"Open In Colab\"/></a>"
      ]
    },
    {
      "cell_type": "code",
      "metadata": {
        "id": "vNOqm5YgZ4dP",
        "outputId": "958cc347-92a5-4462-e1a8-fef10338125f",
        "colab": {
          "base_uri": "https://localhost:8080/",
          "height": 67
        }
      },
      "source": [
        "archivo = open('sample_data/frutas.txt','rt')\n",
        "\n",
        "data = archivo.read()\n",
        "print(data.upper())\n",
        "\n",
        "archivo.close()"
      ],
      "execution_count": null,
      "outputs": [
        {
          "output_type": "stream",
          "text": [
            "LIMON, AGUACATE, FRESA, MANZANA\n",
            "CIRUELA, CAPULIN, NARANJA\n",
            "PERA, KIWI\n"
          ],
          "name": "stdout"
        }
      ]
    },
    {
      "cell_type": "code",
      "metadata": {
        "id": "ABRq4baAd_CP",
        "outputId": "682b68da-cf65-48c7-8a1d-dbc863667ea7",
        "colab": {
          "base_uri": "https://localhost:8080/",
          "height": 118
        }
      },
      "source": [
        "#readline()\n",
        "archivo = open('sample_data/frutas.txt','rt')\n",
        "dada = archivo.readline()\n",
        "while data != \"\":\n",
        "      print(data)\n",
        "      data = archivo.readline()\n",
        "archivo.close()"
      ],
      "execution_count": null,
      "outputs": [
        {
          "output_type": "stream",
          "text": [
            "limon, aguacate, fresa, manzana\n",
            "ciruela, capulin, naranja\n",
            "pera, kiwi\n",
            "ciruela, capulin, naranja\n",
            "\n",
            "pera, kiwi\n"
          ],
          "name": "stdout"
        }
      ]
    },
    {
      "cell_type": "code",
      "metadata": {
        "id": "zZ6SLmqbgCci",
        "outputId": "f85efe5d-1d5e-4441-e9a7-2926bbec869b",
        "colab": {
          "base_uri": "https://localhost:8080/",
          "height": 50
        }
      },
      "source": [
        "#readlines()\n",
        "archivo = open('sample_data/frutas.txt','rt')\n",
        "data = archivo.readlines()\n",
        "print(data)\n",
        "\n",
        "frutas = []\n",
        "for linea in data:\n",
        "    frutas.append(linea.strip())\n",
        "    \n",
        "frutas_final = []\n",
        "for elem in frutas:\n",
        "     for fruta in elem.split(','):\n",
        "         frutas_final.append(fruta.strip())\n",
        "\n",
        "print(frutas_final)\n",
        "archivo.close()"
      ],
      "execution_count": null,
      "outputs": [
        {
          "output_type": "stream",
          "text": [
            "['limon, aguacate, fresa, manzana\\n', 'ciruela, capulin, naranja\\n', 'pera, kiwi']\n",
            "['limon', 'aguacate', 'fresa', 'manzana', 'ciruela', 'capulin', 'naranja', 'pera', 'kiwi']\n"
          ],
          "name": "stdout"
        }
      ]
    },
    {
      "cell_type": "markdown",
      "metadata": {
        "id": "8Aa13HyKlvgn"
      },
      "source": [
        ""
      ]
    },
    {
      "cell_type": "code",
      "metadata": {
        "id": "fevQAtc4lwzC",
        "outputId": "de740a2d-306d-4655-a6ed-230f654427c3",
        "colab": {
          "base_uri": "https://localhost:8080/",
          "height": 50
        }
      },
      "source": [
        "class Persona:\n",
        "    def __init__( self, edd, est):\n",
        "        self.__edad = edd\n",
        "        self.__estatura = est\n",
        "\n",
        "    def to_string( self):\n",
        "        print(f\"Edad = {self.__edad}, est={self.__estatura}\")\n",
        "\n",
        "per1 = Persona(23,1.78)\n",
        "per1.to_string()\n",
        "per1.__estatura = 10.4\n",
        "per1.to_string()\n",
        "\n",
        "#siguiente clase seguir con encapsulamiento"
      ],
      "execution_count": null,
      "outputs": [
        {
          "output_type": "stream",
          "text": [
            "Edad = 23, est=1.78\n",
            "Edad = 23, est=1.78\n"
          ],
          "name": "stdout"
        }
      ]
    }
  ]
}