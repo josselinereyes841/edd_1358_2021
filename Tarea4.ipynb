{
  "nbformat": 4,
  "nbformat_minor": 0,
  "metadata": {
    "colab": {
      "name": "Tarea4.ipynb",
      "provenance": [],
      "authorship_tag": "ABX9TyPQg/8CA8M4fQw/klK2nuk4",
      "include_colab_link": true
    },
    "kernelspec": {
      "name": "python3",
      "display_name": "Python 3"
    }
  },
  "cells": [
    {
      "cell_type": "markdown",
      "metadata": {
        "id": "view-in-github",
        "colab_type": "text"
      },
      "source": [
        "<a href=\"https://colab.research.google.com/github/josselinereyes841/edd_1358_2021/blob/master/Tarea4.ipynb\" target=\"_parent\"><img src=\"https://colab.research.google.com/assets/colab-badge.svg\" alt=\"Open In Colab\"/></a>"
      ]
    },
    {
      "cell_type": "code",
      "metadata": {
        "colab": {
          "base_uri": "https://localhost:8080/"
        },
        "id": "pnOrcOxd_2Wn",
        "outputId": "98f8afc7-40c1-4de8-fe85-243f519dd523"
      },
      "source": [
        "#25/Noviembre/2020\n",
        "#Reyes Márquez Josseline Esmeralda\n",
        "\n",
        "class Nodo:\n",
        "    def __init__( self , dato, siguiente = None):\n",
        "        self.dato = dato\n",
        "        self.siguiente = siguiente\n",
        "\n",
        "\n",
        "class LinkedList:\n",
        "\tdef __init__(self):\n",
        "\t\tself.__head = None\n",
        "\n",
        "\tdef is_empty(self):\n",
        "\t\treturn self.__head == None\n",
        "\n",
        "\tdef tail(self):\n",
        "\t\tcurr_node = self.__head\n",
        "\t\tif curr_node != None:\n",
        "\t\t\twhile( curr_node.siguiente != None ):\n",
        "\t\t\t\tcurr_node = curr_node.siguiente\n",
        "\t\treturn curr_node\n",
        "\n",
        "\tdef append(self,value):\n",
        "\t\tnuevo = Nodo(value)\n",
        "\t\tif self.__head == None:\n",
        "\t\t\tself.__head = nuevo\n",
        "\t\telse:\n",
        "\t\t\tself.tail().siguiente = nuevo\n",
        "\t\n",
        "\n",
        "\tdef prepend(self, value):\n",
        "\t\tself.__head = Nodo(value, self.__head)\n",
        "\n",
        "\t\t\t\n",
        "\tdef transversal(self):\n",
        "\t\tcurr_node = self.__head\n",
        "\t\tif curr_node != None:\n",
        "\t\t\twhile( curr_node != None ):\n",
        "\t\t\t\tprint(curr_node.dato, \"-->\" , end=\"\")\n",
        "\t\t\t\tcurr_node = curr_node.siguiente\n",
        "\t\t\tprint('\\n')\n",
        "\t\telse:\n",
        "\t\t\tprint('Lista vacia')\n",
        "\tdef remove(self,value):\n",
        "\t\tif self.__head != None: #Por si la lista está vacía\n",
        "\t\t\tif self.__head.dato == value:#Esto es por si el elemento es head\n",
        "\t\t\t\tself.__head = self.__head.siguiente\n",
        "\t\t\t\treturn None\n",
        "\n",
        "\t\t\tcurr_node = self.__head\n",
        "\t\t\twhile( curr_node.siguiente != None ):\n",
        "\t\t\t\tif curr_node.siguiente.dato == value:\n",
        "\t\t\t\t\tcurr_node.siguiente = curr_node.siguiente.siguiente\n",
        "\t\t\t\t\tcoincidencia = True\n",
        "\t\t\t\t\treturn None\n",
        "\t\t\t\telse:\n",
        "\t\t\t\t\tcurr_node = curr_node.siguiente\n",
        "\t\t\tprint('No hay coincidencias') \n",
        "\t\telse:\n",
        "\t\t\tprint('Lista vacia')\n",
        "\n",
        "\tdef pop(self,pos=-1):\n",
        "\t\t'''obtener el valor en la posición específica'''\n",
        "\t\tif self.__head != None:#Por si la lista está vacía\n",
        "\t\t\tif 0 == pos:#Esto es por si el elemento es head\n",
        "\t\t\t\tx = self.__head.dato\n",
        "\t\t\t\tself.__head = self.__head.siguiente\n",
        "\t\t\t\treturn x\n",
        "\n",
        "\t\t\tcont = 0\n",
        "\t\t\tcurr_node = self.__head\n",
        "\t\t\twhile( curr_node.siguiente != None ):\n",
        "\t\t\t\tif cont+1 == pos:\n",
        "\t\t\t\t\tx = curr_node.siguiente.dato\n",
        "\t\t\t\t\tcurr_node.siguiente = curr_node.siguiente.siguiente\n",
        "\t\t\t\t\treturn x\n",
        "\n",
        "\t\t\t\telif pos == -1 and curr_node.siguiente.siguiente == None:\n",
        "\t\t\t\t\tx = curr_node.siguiente.dato\n",
        "\t\t\t\t\tcurr_node.siguiente = curr_node.siguiente.siguiente\n",
        "\t\t\t\t\treturn x\n",
        "\t\t\t\tcont +=1\n",
        "\t\t\t\tcurr_node = curr_node.siguiente\n",
        "\t\t\t\n",
        "\n",
        "x = LinkedList()\n",
        "x.append(1)\n",
        "x.append(2)\n",
        "x.append(3)\n",
        "x.append(4)\n",
        "x.append(5)\n",
        "x.append(6)\n",
        "\n",
        "\n",
        "x.pop(5)\n",
        "x.remove(2)\n",
        "x.transversal()\n"
      ],
      "execution_count": 4,
      "outputs": [
        {
          "output_type": "stream",
          "text": [
            "1 -->3 -->4 -->5 -->\n",
            "\n"
          ],
          "name": "stdout"
        }
      ]
    }
  ]
}