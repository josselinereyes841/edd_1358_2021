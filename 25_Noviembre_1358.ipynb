{
  "nbformat": 4,
  "nbformat_minor": 0,
  "metadata": {
    "colab": {
      "name": "25_Noviembre_1358.ipynb",
      "provenance": [],
      "authorship_tag": "ABX9TyMlkTEh2ZOeQw2ecfIhgfoL",
      "include_colab_link": true
    },
    "kernelspec": {
      "name": "python3",
      "display_name": "Python 3"
    }
  },
  "cells": [
    {
      "cell_type": "markdown",
      "metadata": {
        "id": "view-in-github",
        "colab_type": "text"
      },
      "source": [
        "<a href=\"https://colab.research.google.com/github/josselinereyes841/edd_1358_2021/blob/master/25_Noviembre_1358.ipynb\" target=\"_parent\"><img src=\"https://colab.research.google.com/assets/colab-badge.svg\" alt=\"Open In Colab\"/></a>"
      ]
    },
    {
      "cell_type": "code",
      "metadata": {
        "colab": {
          "base_uri": "https://localhost:8080/"
        },
        "id": "_sh7rPmoT6mv",
        "outputId": "9252d222-1fca-40ee-c1b8-a9cc738ad857"
      },
      "source": [
        "class NodoDoble:\n",
        "    def __init__( self , dato, anterior = None, siguiente = None):\n",
        "        self.dato = dato\n",
        "        self.siguiente = siguiente\n",
        "        self.anterior = anterior\n",
        "\n",
        "\n",
        "\n",
        "class DoubleLinkedList:\n",
        "\tdef __init__(self):\n",
        "\t\tself.__head = None\n",
        "\t\tself.__tail = None\n",
        "\t\tself.__size = 0\n",
        "\tdef get_size(self):\n",
        "\t\treturn self.__size\n",
        "\tdef is_empty(self):\n",
        "\t\treturn self.__size == 0\n",
        "\tdef append(self,value):\n",
        "\t\tif self.is_empty():\n",
        "\t\t\tnuevo = NodoDoble(value)\n",
        "\t\t\tself.__head = nuevo\n",
        "\t\t\tself.__tail = nuevo\n",
        "\t\telse:\n",
        "\t\t\tnuevo = NodoDoble(value,self.__tail,None)\n",
        "\t\t\tself.__tail.siguiente = nuevo #tail.next = nuevo\n",
        "\t\t\tself.__tail = nuevo\n",
        "\t\tself.__size += 1\n",
        "\tdef transversal(self): #'''recorrido desde head'''\n",
        "\t\tcurr_node = self.__head\n",
        "\t\tif curr_node != None:\n",
        "\t\t\twhile curr_node != None :\n",
        "\t\t\t\tprint(\"<--\" ,curr_node.dato, \"-->\" , end=\"\")\n",
        "\t\t\t\tcurr_node = curr_node.siguiente\n",
        "\t\t\tprint('\\n')\n",
        "\t\telse:\n",
        "\t\t\tprint('Lista vacia')\n",
        "\tdef remove_from_head(self,value):\n",
        "\t\tif self.is_empty():\n",
        "\t\t\tpass\n",
        "\t\telse:\n",
        "\t\t\tcurr_node = self.__head\n",
        "\t\t\twhile  curr_node.dato != value and curr_node != None:\n",
        "\t\t\t\tcurr_node = curr_node.siguiente\n",
        "\t\t\tif curr_node.dato == value: #Que pasa si el que queremos eliminar es head?\n",
        "\t\t\t\tcurr_node.anterior.siguiente = curr_node.siguiente\n",
        "\t\t\t\tcurr_node.siguiente.anterior = curr_node.anterior\n",
        "\t\tself.__size -= 1\n",
        "\n",
        "ldl = DoubleLinkedList()\n",
        "\n",
        "print(ldl.get_size())\n",
        "\n",
        "ldl.append(10)\n",
        "ldl.transversal()\n",
        "\n",
        "ldl.append(20)\n",
        "ldl.append(30)\n",
        "print(ldl.get_size())\n",
        "\n",
        "ldl.transversal()\n",
        "\n",
        "ldl.remove_from_head(20)\n",
        "ldl.transversal()"
      ],
      "execution_count": 1,
      "outputs": [
        {
          "output_type": "stream",
          "text": [
            "0\n",
            "<-- 10 -->\n",
            "\n",
            "3\n",
            "<-- 10 --><-- 20 --><-- 30 -->\n",
            "\n",
            "<-- 10 --><-- 30 -->\n",
            "\n"
          ],
          "name": "stdout"
        }
      ]
    }
  ]
}