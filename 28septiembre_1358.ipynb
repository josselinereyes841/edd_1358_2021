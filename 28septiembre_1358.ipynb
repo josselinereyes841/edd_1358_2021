{
  "nbformat": 4,
  "nbformat_minor": 0,
  "metadata": {
    "colab": {
      "name": "28septiembre_1358.ipynb",
      "provenance": [],
      "authorship_tag": "ABX9TyNKPVb49QjsTxpvosQEBKiF",
      "include_colab_link": true
    },
    "kernelspec": {
      "name": "python3",
      "display_name": "Python 3"
    }
  },
  "cells": [
    {
      "cell_type": "markdown",
      "metadata": {
        "id": "view-in-github",
        "colab_type": "text"
      },
      "source": [
        "<a href=\"https://colab.research.google.com/github/josselinereyes841/edd_1358_2021/blob/master/28septiembre_1358.ipynb\" target=\"_parent\"><img src=\"https://colab.research.google.com/assets/colab-badge.svg\" alt=\"Open In Colab\"/></a>"
      ]
    },
    {
      "cell_type": "code",
      "metadata": {
        "id": "G1VbpxSDeaqg",
        "outputId": "ea93fcd7-9453-4e17-f471-0976d20f5fc1",
        "colab": {
          "base_uri": "https://localhost:8080/",
          "height": 34
        }
      },
      "source": [
        "print(\"hola colab research\")\n",
        "nombre = \"EdD\"\n",
        "val = 10\n",
        "\n",
        "\n"
      ],
      "execution_count": null,
      "outputs": [
        {
          "output_type": "stream",
          "text": [
            "hola colab research\n"
          ],
          "name": "stdout"
        }
      ]
    },
    {
      "cell_type": "code",
      "metadata": {
        "id": "dmpVUeS3nsyC"
      },
      "source": [
        "print(nombre) \n",
        "print(val)"
      ],
      "execution_count": null,
      "outputs": []
    },
    {
      "cell_type": "markdown",
      "metadata": {
        "id": "jIVMdpu1mUMU"
      },
      "source": [
        "# Hola encabezado\n",
        "## encabezado nivel 2\n",
        "### Markdown\n",
        "\n",
        "* element 1\n",
        "* element 2\n",
        "* element 3\n",
        "\n",
        "1. fresa\n",
        "1. manzana\n",
        "1. pera\n",
        "1. adsad\n",
        "\n",
        "[Ir a Google](https://wwww.google.com)\n"
      ]
    },
    {
      "cell_type": "markdown",
      "metadata": {
        "id": "RZ71Kh16o-jE"
      },
      "source": [
        ""
      ]
    },
    {
      "cell_type": "code",
      "metadata": {
        "id": "lO2QytF9pFbB"
      },
      "source": [
        "class Silla():\n",
        "   def __Silla__( self ):\n",
        "     self.material = \"\"\n",
        "     self.color = \"\"\n",
        "\n",
        "   def to_string( self ):\n",
        "    print(\" ------- \")\n",
        "    print( f\" Material: { self.material } \" )\n",
        "    print( f\" {self.color} ----- \")"
      ],
      "execution_count": 2,
      "outputs": []
    },
    {
      "cell_type": "code",
      "metadata": {
        "id": "nctc5te5pdF6",
        "outputId": "4ff8ddb4-92cf-48c2-8b97-15062f1b8e3e",
        "colab": {
          "base_uri": "https://localhost:8080/",
          "height": 68
        }
      },
      "source": [
        "obj = Silla()\n",
        "obj.material = \"Madera\"\n",
        "obj.color = \"Rojo\"\n",
        "obj.to_string()"
      ],
      "execution_count": 3,
      "outputs": [
        {
          "output_type": "stream",
          "text": [
            " ------- \n",
            " Material: Madera \n",
            " Rojo ----- \n"
          ],
          "name": "stdout"
        }
      ]
    },
    {
      "cell_type": "markdown",
      "metadata": {
        "id": "YZDWRjzOlT7g"
      },
      "source": [
        ""
      ]
    }
  ]
}