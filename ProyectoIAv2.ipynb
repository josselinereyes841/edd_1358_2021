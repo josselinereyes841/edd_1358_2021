{
  "nbformat": 4,
  "nbformat_minor": 0,
  "metadata": {
    "colab": {
      "name": "Untitled15.ipynb",
      "provenance": [],
      "authorship_tag": "ABX9TyPuM1LY7FDMF0HLg5b8VWms",
      "include_colab_link": true
    },
    "kernelspec": {
      "name": "python3",
      "display_name": "Python 3"
    },
    "language_info": {
      "name": "python"
    }
  },
  "cells": [
    {
      "cell_type": "markdown",
      "metadata": {
        "id": "view-in-github",
        "colab_type": "text"
      },
      "source": [
        "<a href=\"https://colab.research.google.com/github/josselinereyes841/edd_1358_2021/blob/master/ProyectoIAv2.ipynb\" target=\"_parent\"><img src=\"https://colab.research.google.com/assets/colab-badge.svg\" alt=\"Open In Colab\"/></a>"
      ]
    },
    {
      "cell_type": "code",
      "metadata": {
        "colab": {
          "base_uri": "https://localhost:8080/"
        },
        "id": "Jb6-KHdwi3Gz",
        "outputId": "71811e7a-5920-469d-c71f-a366b36cfb1c"
      },
      "source": [
        "print(\"Hola bienvenido, Soy el robot Joss\")\n",
        "NOMBRE= str( input (\"¿cúal es tu nombre?: \"))\n",
        "EDAD= int( input (\"¿Cuantos años tienes \" + NOMBRE + \"?: \"))\n",
        "DIA= str( input (\"Como va tu dia hoy \" + NOMBRE + \"?: \"))\n",
        "TIEMPO =str( input (\"¿Te parece bonito el día \" + NOMBRE + \"?: \"))\n",
        "CONDICIONES = str( input (\"¿Has estado bajo mucho estres ultimamente?: \"))\n",
        "PSIC= str( input(\"¿Alguna vez has visto un psicólogo?\"))\n",
        "ANIMO = str( input (\"¿Has tenido cambios de humor ultimamente? \"))\n",
        "ESTADO= str( input (\"¿Qué te trae por aquí el día de hoy? \"))\n",
        "AYD= bool(int( input (\"Quieres contarme un poco más sobre la situación (0 NO/1 SI)?: \")))\n",
        "if AYD == 1 and AYD == True:\n",
        "    PRB = str( input (\"¿Cuál es el problema desde tu punto de vista?: \"))\n",
        "    SENTIDO= str( input (\"¿Cómo te hace sentir este problema?\"))\n",
        "    INTENSIDAD= str( input (\"¿Consideras que el problema merece que le dediques tiempo de tu valiosa vida?\"))\n",
        "    CUEN = str( input (\"Cuentame un poco más sobre el problema\"))\n",
        "    SOLUCION = str( input (\"¿Qué crees que mejora el problema?\"))\n",
        "    MAGIA= str( input (\"Si pudieras agitar una varita mágica, ¿qué cambios positivos harías en tu vida?\"))\n",
        "    MASA = str( input (\"¿Consideras que puedes manejar ahora un poco mejor el problema?: \"))\n",
        "    CONSEJO = str(input (\"¿Quieres un consejo?\"))\n",
        "    CONE= \"Bueno considero que todos necesitan escuchar uno así que... Un momento de dolor vale toda una vida de gloria\"   \n",
        "    print(CONE)\n",
        "    ANIMO2= \"Si quieres más apoyo puedes volver a iniciar el programa hasta que encuentres la manera de solucionar esta situación, siempre que necesites aquí estaré para poder apoyarte en lo que necesites\"\n",
        "    print(ANIMO2)\n",
        "    SALUDOS= \"Me dio gusto platicar contigo, te recomiento que leas artículos sobre manejo de estrés, autocontrol, depresion, inseguridad, ansiedad, manejo de la ira, meditación, motivación y comunicación, te dejo el numero de mi creadora para que ella te recomiende más articulos o libros\"\n",
        "    print(SALUDOS)\n",
        "else\n",
        "    print(\"Esperamos que pronto quieras una asesoria, te estaré esperando\")\n",
        "    print(\"Te deseo que tengas un exelente dia, no olvides sonreir :)\")\n",
        "print(\"Fin del programa\")"
      ],
      "execution_count": 46,
      "outputs": [
        {
          "output_type": "stream",
          "name": "stdout",
          "text": [
            "Hola bienvenido, Soy el robot Joss\n",
            "¿cúal es tu nombre?: Eme\n",
            "¿Cuantos años tienes Eme?: 21\n",
            "Como va tu dia hoy Eme?: mal\n",
            "¿Te parece bonito el día Eme?: mal\n",
            "¿Has estado bajo mucho estres ultimamente?: si\n",
            "¿Alguna vez has visto un psicólogo?no\n",
            "¿Has tenido cambios de humor ultimamente? si\n",
            "¿Qué te trae por aquí el día de hoy? pues tengo una pelea con mi novio toxico\n",
            "Quieres contarme un poco más sobre la situación (0 NO/1 SI)?: 1\n",
            "¿Cuál es el problema desde tu punto de vista?: creo que el tiene mucha inseguridad\n",
            "¿Cómo te hace sentir este problema?pues insegura, desprotegida, lo estraño\n",
            "¿Consideras que el problema merece que le dediques tiempo de tu valiosa vida?creo que no tanto\n",
            "Cuentame un poco más sobre el problemapues llevo 5 años con el y me lastima a veces con sus insultos pero lo amo\n",
            "¿Qué crees que mejora el problema?pues creo que la comunicacion y poner límitss\n",
            "Si pudieras agitar una varita mágica, ¿qué cambios positivos harías en tu vida?creo que pondria limites antes\n",
            "¿Consideras que puedes manejar ahora un poco mejor el problema?: supongo que si\n",
            "¿Quieres un consejo?bueno\n",
            "Bueno considero que todos necesitan escuchar uno así que... Un momento de dolor vale toda una vida de gloria\n",
            "Si quieres más apoyo puedes volver a iniciar el programa hasta que encuentres la manera de solucionar esta situación, siempre que necesites aquí estaré para poder apoyarte en lo que necesites\n",
            "Me dio gusto platicar contigo, te recomiento que leas artículos sobre manejo de estrés, autocontrol, manejo de la ira, meidtación, motivación y comunicación\n",
            "Fin del programa\n"
          ]
        }
      ]
    }
  ]
}