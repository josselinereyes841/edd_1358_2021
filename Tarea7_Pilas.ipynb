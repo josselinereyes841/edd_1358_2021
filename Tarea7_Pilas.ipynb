{
  "nbformat": 4,
  "nbformat_minor": 0,
  "metadata": {
    "colab": {
      "name": "Tarea7_Pilas.ipynb",
      "provenance": [],
      "authorship_tag": "ABX9TyPqSLa1nieeQc98F+49HOUS",
      "include_colab_link": true
    },
    "kernelspec": {
      "name": "python3",
      "display_name": "Python 3"
    }
  },
  "cells": [
    {
      "cell_type": "markdown",
      "metadata": {
        "id": "view-in-github",
        "colab_type": "text"
      },
      "source": [
        "<a href=\"https://colab.research.google.com/github/josselinereyes841/edd_1358_2021/blob/master/Tarea7_Pilas.ipynb\" target=\"_parent\"><img src=\"https://colab.research.google.com/assets/colab-badge.svg\" alt=\"Open In Colab\"/></a>"
      ]
    },
    {
      "cell_type": "code",
      "metadata": {
        "colab": {
          "base_uri": "https://localhost:8080/"
        },
        "id": "24w3ozBzhgHE",
        "outputId": "02317003-baad-4cfe-ca8d-52a249f09c02"
      },
      "source": [
        "#Pilas\n",
        "#Reyes Marquez Josseline Esmeralda\n",
        "\n",
        "class Stack:\n",
        "\tdef __init__(self):\n",
        "\t\tself.__data = []\n",
        "\t\tself.__size = 0\n",
        "\n",
        "\tdef is_empty(self):\n",
        "\t\treturn self.__size == 0\n",
        "\tdef length(self):\n",
        "\t\treturn self.__size\n",
        "\tdef pop(self):\n",
        "\t\tself.__size -= 1\n",
        "\t\treturn self.__data.pop()\n",
        "\tdef peek(self):\n",
        "\t\tif self.__size > 0:\n",
        "\t\t\t\treturn self.__data[-1]\n",
        "\t\telse:\n",
        "\t\t\treturn None\n",
        "\tdef push( self , value ):\n",
        "\t\tself.__data.append(value)\n",
        "\t\tself.__size += 1\n",
        "\tdef is_full(self):\n",
        "\t\treturn 0\n",
        "\tdef to_string(self):\n",
        "\t\tcont = 1\n",
        "\t\tfor i in self.__data[::-1]:\n",
        "\t\t\tif cont == 1:\n",
        "\t\t\t\tprint('-----')\n",
        "\t\t\t\tprint(f'|{i}| <---- Tope')\n",
        "\t\t\t\tprint('-----')\n",
        "\t\t\telif cont == self.__size:\n",
        "\t\t\t\tprint('-----')\n",
        "\t\t\t\tprint(f'|{i}| <---- Base')\n",
        "\t\t\t\tprint('-----')\n",
        "\t\t\telse:\n",
        "\t\t\t\tprint('-----')\n",
        "\t\t\t\tprint(f'|{i}|')\n",
        "\t\t\t\tprint('-----')\n",
        "\n",
        "\n",
        "\t\t\tcont +=1\n",
        "\n",
        "def prueba(string):\n",
        "\t\tapertura = ['(','[','{']\n",
        "\t\tcierre = [')',']','}']\n",
        "\n",
        "\t\tlista ={')':'(',']':'[','}':'{'}\n",
        "\n",
        "\t\tpila = Stack()\n",
        "\n",
        "\t\tfor letra in string:\n",
        "\t\t\tif letra in apertura:\n",
        "\t\t\t\tpila.push(letra)\n",
        "\t\t\telif letra in cierre:\n",
        "\n",
        "\t\t\t\tif pila.peek() == lista[letra]:\n",
        "\t\t\t\t\tpila.pop()\n",
        "\t\t\t\telse:\n",
        "\t\t\t\t\t return 'No está balanceado'  \n",
        "\t\tif pila.length() == 0:\n",
        "\t\t\treturn 'Está balanceado'\n",
        "\t\telse:\n",
        "\t\t\treturn 'No está balanceado' \n",
        "\t\t\n",
        "print(prueba( '(6+3)(1+5)' )) # Todo normal\n",
        "print(prueba( '(()()' )) # más de apertura que de cierre\n",
        "print(prueba( '()())' )) # más de cierre que de apertura\n",
        "print(prueba( '( ( ) ) ) ( ( )  ' )) # Igual número pero desordenados\n",
        "print(prueba( '[(){()[]}]  ' )) # Con diferentes parentesis\n",
        "print(prueba( '[()({()[]}])  ' )) # Con diferentes parentesis"
      ],
      "execution_count": 1,
      "outputs": [
        {
          "output_type": "stream",
          "text": [
            "Está balanceado\n",
            "No está balanceado\n",
            "No está balanceado\n",
            "No está balanceado\n",
            "Está balanceado\n",
            "No está balanceado\n"
          ],
          "name": "stdout"
        }
      ]
    }
  ]
}