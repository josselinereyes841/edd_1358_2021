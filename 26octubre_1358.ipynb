{
  "nbformat": 4,
  "nbformat_minor": 0,
  "metadata": {
    "colab": {
      "name": "26octubre_1358.ipynb",
      "provenance": [],
      "authorship_tag": "ABX9TyPgAV7S8BLs0185qaD9KPYH",
      "include_colab_link": true
    },
    "kernelspec": {
      "name": "python3",
      "display_name": "Python 3"
    }
  },
  "cells": [
    {
      "cell_type": "markdown",
      "metadata": {
        "id": "view-in-github",
        "colab_type": "text"
      },
      "source": [
        "<a href=\"https://colab.research.google.com/github/josselinereyes841/edd_1358_2021/blob/master/26octubre_1358.ipynb\" target=\"_parent\"><img src=\"https://colab.research.google.com/assets/colab-badge.svg\" alt=\"Open In Colab\"/></a>"
      ]
    },
    {
      "cell_type": "code",
      "metadata": {
        "id": "PIA88lXq43cV"
      },
      "source": [
        "\"\"\"\n",
        "Array\n",
        "\"\"\"\n",
        "\n",
        "class Array:\n",
        "    def __init__( self , tam):\n",
        "        self.__datos = [0 for x in range(tam)]\n",
        "        \n",
        "    def get_item( self , index ):\n",
        "         return self.__datos[index]\n",
        "         \n",
        "mi_arreglo = Array(10)\n",
        "print(mi_arreglo.get_item( 2))"
      ],
      "execution_count": null,
      "outputs": []
    }
  ]
}