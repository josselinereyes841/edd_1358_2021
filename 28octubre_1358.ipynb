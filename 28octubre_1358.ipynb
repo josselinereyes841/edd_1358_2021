{
  "nbformat": 4,
  "nbformat_minor": 0,
  "metadata": {
    "colab": {
      "name": "28octubre_1358.ipynb",
      "provenance": [],
      "authorship_tag": "ABX9TyNZLolhytQIVp5IbEecBZ8x",
      "include_colab_link": true
    },
    "kernelspec": {
      "name": "python3",
      "display_name": "Python 3"
    }
  },
  "cells": [
    {
      "cell_type": "markdown",
      "metadata": {
        "id": "view-in-github",
        "colab_type": "text"
      },
      "source": [
        "<a href=\"https://colab.research.google.com/github/josselinereyes841/edd_1358_2021/blob/master/28octubre_1358.ipynb\" target=\"_parent\"><img src=\"https://colab.research.google.com/assets/colab-badge.svg\" alt=\"Open In Colab\"/></a>"
      ]
    },
    {
      "cell_type": "code",
      "metadata": {
        "id": "U44ck_bMPYJk",
        "outputId": "6888774a-fb17-4c73-f788-2944388f145a",
        "colab": {
          "base_uri": "https://localhost:8080/",
          "height": 128
        }
      },
      "source": [
        "'''\n",
        "Array\n",
        "'''\n",
        "\n",
        "class Array:\n",
        "    def __init__(self,tam): #Array\n",
        "     self.__datos = [0 for x in range(tam)]\n",
        "        \n",
        "    def get_Item(self,index):  \n",
        "        if index >= and index < len(self.__datos):\n",
        "            dato = self.__datos[ index ]\n",
        "        else:\n",
        "            print(\"Error en el indice\")\n",
        "            return dato\n",
        "    def set_Item(self, dato,index):\n",
        "        if index >= and index < len(self.__datos):\n",
        "            dato = self.__datos[ index ] = dato\n",
        "        else:\n",
        "            print(\"Error en el indice\")    \n",
        "    def get_length(self):\n",
        "\t\t'''Obtener el tamaño del arreglo'''\n",
        "\t return f'El tamaño del arreglo es de: {len(self.__datos)}'\n",
        "\n",
        "    def clear(self, dato):\n",
        "        self.__datos =[dato for x in range(self.__tam)]\n",
        "\n",
        "    def getIterator\n",
        "    return _getIterator(self.__datos)\n",
        "\n",
        "\n",
        "class_getIterator\n",
        "    def __init__(self , arreglo ):\n",
        "        self.__arreglo = arreglo\n",
        "        self.__indice_actual = 0\n",
        "\n",
        "    def __iter__(self):\n",
        "        return self\n",
        "\n",
        "    def __next__(self,next):\n",
        "        if self.__indice_actual < len(self.__arreglo):\n",
        "            dato = self.__arreglo[self.__indice_actual]\n",
        "            return dato\n",
        "        else:\n",
        "            raise stop\n",
        "\n",
        "  \n",
        "    \n",
        "\n",
        "\n",
        "mi_arreglo = Array(10)\n",
        "print(mi_arreglo.get_Item(20))\n",
        "mi_arreglo.set_item( 2345, 3 )\n",
        "print(mi_arreglo.get_item(3))"
      ],
      "execution_count": 1,
      "outputs": [
        {
          "output_type": "error",
          "ename": "SyntaxError",
          "evalue": "ignored",
          "traceback": [
            "\u001b[0;36m  File \u001b[0;32m\"<ipython-input-1-01badca03395>\"\u001b[0;36m, line \u001b[0;32m10\u001b[0m\n\u001b[0;31m    if index >= and index < len(self.__datos):\u001b[0m\n\u001b[0m                  ^\u001b[0m\n\u001b[0;31mSyntaxError\u001b[0m\u001b[0;31m:\u001b[0m invalid syntax\n"
          ]
        }
      ]
    }
  ]
}