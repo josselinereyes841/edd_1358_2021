{
  "nbformat": 4,
  "nbformat_minor": 0,
  "metadata": {
    "colab": {
      "name": "14octubre_1358.ipynb",
      "provenance": [],
      "collapsed_sections": [],
      "authorship_tag": "ABX9TyNuRqcVkOo224ek6zXo4OA0",
      "include_colab_link": true
    },
    "kernelspec": {
      "name": "python3",
      "display_name": "Python 3"
    }
  },
  "cells": [
    {
      "cell_type": "markdown",
      "metadata": {
        "id": "view-in-github",
        "colab_type": "text"
      },
      "source": [
        "<a href=\"https://colab.research.google.com/github/josselinereyes841/edd_1358_2021/blob/master/14octubre_1358.ipynb\" target=\"_parent\"><img src=\"https://colab.research.google.com/assets/colab-badge.svg\" alt=\"Open In Colab\"/></a>"
      ]
    },
    {
      "cell_type": "code",
      "metadata": {
        "id": "UXm32Ty6ocea",
        "outputId": "524390af-635c-460e-c7b7-fa173fb1c88d",
        "colab": {
          "base_uri": "https://localhost:8080/",
          "height": 67
        }
      },
      "source": [
        "def calcular(a, b, c):\n",
        "    x = a + (b/c)\n",
        "    return x\n",
        "print(calcular (5, 9, 3))\n",
        "print(calcular (a=5, b=9, c=3))\n",
        "\n",
        "def calcular_v2(a=10, b=20, c=5):\n",
        "  x = a + (b/c)\n",
        "  return x\n",
        "print(calcular_v2(40,8))"
      ],
      "execution_count": null,
      "outputs": [
        {
          "output_type": "stream",
          "text": [
            "8.0\n",
            "8.0\n",
            "41.6\n"
          ],
          "name": "stdout"
        }
      ]
    },
    {
      "cell_type": "markdown",
      "metadata": {
        "id": "Pfj-pCSSrsy8"
      },
      "source": [
        "#Argumentos a funciones por tupla *\n",
        "Se envían los argumentos en un conjunto de elementos dentro de una tupla\n"
      ]
    },
    {
      "cell_type": "code",
      "metadata": {
        "id": "3yLjR467r6cx",
        "outputId": "fa84a1ee-6470-47fe-e84a-10736e89c499",
        "colab": {
          "base_uri": "https://localhost:8080/",
          "height": 50
        }
      },
      "source": [
        "def calculo( *elem ):\n",
        "    print(elem)\n",
        "    x = elem[0] + (elem[1] / elem[2])\n",
        "    return x\n",
        "print(calculo(5,9,3))\n"
      ],
      "execution_count": null,
      "outputs": [
        {
          "output_type": "stream",
          "text": [
            "(5, 9, 3)\n",
            "8.0\n"
          ],
          "name": "stdout"
        }
      ]
    },
    {
      "cell_type": "markdown",
      "metadata": {
        "id": "I06JEU9Fsvgr"
      },
      "source": [
        "# Argumentos como diccionario\n"
      ]
    },
    {
      "cell_type": "code",
      "metadata": {
        "id": "kXTkE1acszSj",
        "outputId": "230b7799-6c12-4aa5-f27b-b946ebe7143e",
        "colab": {
          "base_uri": "https://localhost:8080/",
          "height": 50
        }
      },
      "source": [
        "def calculo(**elem):\n",
        "  print(elem)\n",
        "  x= elem['a'] + (elem['b'] / elem['c'])\n",
        "  return x\n",
        "  \n",
        "print(calculo(a=5,b=9,c=3))"
      ],
      "execution_count": null,
      "outputs": [
        {
          "output_type": "stream",
          "text": [
            "{'a': 5, 'b': 9, 'c': 3}\n",
            "8.0\n"
          ],
          "name": "stdout"
        }
      ]
    },
    {
      "cell_type": "markdown",
      "metadata": {
        "id": "QFpImuCh2ua2"
      },
      "source": [
        "#Archivo\n",
        "- abrirlos\n",
        "    - un str con la ruta de archivo\n",
        "    - dos caracteres: 1 -> modo de apertura (r,w) y el 2 formato(texto o Binario)\n",
        "\n",
        "- leerlos\n",
        "- modificarlos"
      ]
    },
    {
      "cell_type": "code",
      "metadata": {
        "id": "Igioj7zb3GoA"
      },
      "source": [
        "archivo = open('ejemplo.txt','wt')\n",
        "archivo.write(\"Hola mundo de archivos\")\n",
        "archivo.close()"
      ],
      "execution_count": 14,
      "outputs": []
    },
    {
      "cell_type": "code",
      "metadata": {
        "id": "2wfHpgrI4cGZ",
        "outputId": "3c816ab0-3cd7-402f-b9e3-86bd3e374a03",
        "colab": {
          "base_uri": "https://localhost:8080/",
          "height": 34
        }
      },
      "source": [
        "cat ejemplo.txt"
      ],
      "execution_count": 15,
      "outputs": [
        {
          "output_type": "stream",
          "text": [
            "Hola mundo de archivos"
          ],
          "name": "stdout"
        }
      ]
    },
    {
      "cell_type": "code",
      "metadata": {
        "id": "uLTOoMIQ5PYl"
      },
      "source": [
        "!(cat ejemplo.txt > otra.txt)"
      ],
      "execution_count": 24,
      "outputs": []
    }
  ]
}