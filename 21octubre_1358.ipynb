{
  "nbformat": 4,
  "nbformat_minor": 0,
  "metadata": {
    "colab": {
      "name": "21octubre_1358.ipynb",
      "provenance": [],
      "authorship_tag": "ABX9TyNyCy1W72x6weRI159LkN2o",
      "include_colab_link": true
    },
    "kernelspec": {
      "name": "python3",
      "display_name": "Python 3"
    }
  },
  "cells": [
    {
      "cell_type": "markdown",
      "metadata": {
        "id": "view-in-github",
        "colab_type": "text"
      },
      "source": [
        "<a href=\"https://colab.research.google.com/github/josselinereyes841/edd_1358_2021/blob/master/21octubre_1358.ipynb\" target=\"_parent\"><img src=\"https://colab.research.google.com/assets/colab-badge.svg\" alt=\"Open In Colab\"/></a>"
      ]
    },
    {
      "cell_type": "code",
      "metadata": {
        "id": "x4laIgPu92v4",
        "outputId": "13853f5a-cd73-4ad3-d0ff-cfa929bd9442",
        "colab": {
          "base_uri": "https://localhost:8080/",
          "height": 106
        }
      },
      "source": [
        " \n",
        "#Encapsulamiento traditional way\n",
        "class SmartPhone:\n",
        "    def __init__( self, m ):\n",
        "        self.__marca = m\n",
        " \n",
        "    def set_marca( self, m):\n",
        "        self.__marca = m\n",
        " \n",
        "    def get_marca( self ):\n",
        "        return self.__marca\n",
        " \n",
        "    def to_string( self ):\n",
        "        return \"La marca del telefono es: \" + self.__marca\n",
        " \n",
        "sp1 = SmartPhone(\"Huawei\")\n",
        "print(sp1.to_string())\n",
        " \n",
        "sp1.__marca = \"Iphone X\"\n",
        "print(sp1.to_string() )\n",
        " \n",
        "sp1.set_marca(\"Samsung\")\n",
        "print(sp1.to_string() )\n",
        " \n",
        "print(sp1.get_marca() )"
      ],
      "execution_count": 1,
      "outputs": [
        {
          "output_type": "stream",
          "text": [
            "La marca del telefono es: Huawei\n",
            "La marca del telefono es: Huawei\n",
            "La marca del telefono es: Samsung\n",
            "Samsung\n"
          ],
          "name": "stdout"
        }
      ]
    },
    {
      "cell_type": "code",
      "metadata": {
        "id": "cIEwbd2S97O4",
        "outputId": "2f10b03a-f2ec-41d6-bbed-98b52a53027e",
        "colab": {
          "base_uri": "https://localhost:8080/",
          "height": 155
        }
      },
      "source": [
        " \n",
        "#Estilo python 3\n",
        "class SmartPhone:\n",
        "    def __init__ ( self, m):\n",
        "        self.marca = m  #Se le llama al metodo set.\n",
        " \n",
        "    @property\n",
        "    def marca( self ):   #Se declara el metodo get y se declara self.__marca\n",
        "        print(\"En el metodo get de marca\")\n",
        "        return self.__marca\n",
        " \n",
        "    @marca.setter\n",
        "    def marca( self, m):\n",
        "        self.__marca = m\n",
        " \n",
        "    def to_string (self):\n",
        "        return \"Marca = \" + self.marca\n",
        " \n",
        "sp2 = SmartPhone(\"Motorola\")\n",
        "print( sp2.to_string() )\n",
        " \n",
        "sp2.__marca = \"Iphone SE\"\n",
        "print( sp2.to_string() )\n",
        " \n",
        "sp2.marca = \"Xiamoi\"       #Invocacion del metodo set\n",
        "print( sp2.to_string() )\n",
        " \n",
        "print(sp2.marca)      #Invocacion del metodo get"
      ],
      "execution_count": 2,
      "outputs": [
        {
          "output_type": "stream",
          "text": [
            "En el metodo get de marca\n",
            "Marca = Motorola\n",
            "En el metodo get de marca\n",
            "Marca = Motorola\n",
            "En el metodo get de marca\n",
            "Marca = Xiamoi\n",
            "En el metodo get de marca\n",
            "Xiamoi\n"
          ],
          "name": "stdout"
        }
      ]
    }
  ]
}