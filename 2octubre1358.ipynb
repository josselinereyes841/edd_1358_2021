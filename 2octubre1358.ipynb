{
  "nbformat": 4,
  "nbformat_minor": 0,
  "metadata": {
    "colab": {
      "name": "2octubre1358.ipynb",
      "provenance": [],
      "authorship_tag": "ABX9TyNBtMWV2opaJTxOxv0JmxV4",
      "include_colab_link": true
    },
    "kernelspec": {
      "name": "python3",
      "display_name": "Python 3"
    }
  },
  "cells": [
    {
      "cell_type": "markdown",
      "metadata": {
        "id": "view-in-github",
        "colab_type": "text"
      },
      "source": [
        "<a href=\"https://colab.research.google.com/github/josselinereyes841/edd_1358_2021/blob/master/2octubre1358.ipynb\" target=\"_parent\"><img src=\"https://colab.research.google.com/assets/colab-badge.svg\" alt=\"Open In Colab\"/></a>"
      ]
    },
    {
      "cell_type": "markdown",
      "metadata": {
        "id": "S2j4GGd63yBu"
      },
      "source": [
        ""
      ]
    },
    {
      "cell_type": "code",
      "metadata": {
        "id": "YrousEiO31MC",
        "outputId": "a84be8ea-07c6-4fb2-81d8-2aa8974b8627",
        "colab": {
          "base_uri": "https://localhost:8080/",
          "height": 153
        }
      },
      "source": [
        "#string puede emplear \"\", '' o \"\"\" \"\"\"\n",
        "universidad = \"  universidad nacional autonoma de mexico  \"\n",
        "print(universidad)\n",
        "#cuando el string es una sola palabra se usa '' -> buena práctica \n",
        "carrera = 'ico'\n",
        "carrera = \"ico\"\n",
        "area = \"sofware\"\n",
        "division = 'division de las ciencias fisico matematicas'\n",
        "print(carrera, area)\n",
        "print(division)\n",
        "#\"\"\" cuando el string incluye varios renglones \n",
        "\n",
        "frase = \"\"\"\n",
        "si funciona, ¡¡¡no\n",
        "lo\n",
        "arregles!!!\n",
        "\"\"\"\n",
        "print(frase)\n"
      ],
      "execution_count": 12,
      "outputs": [
        {
          "output_type": "stream",
          "text": [
            "  universidad nacional autonoma de mexico  \n",
            "ico sofware\n",
            "division de las ciencias fisico matematicas\n",
            "\n",
            "si funciona, ¡¡¡no\n",
            "lo\n",
            "arregles!!!\n",
            "\n"
          ],
          "name": "stdout"
        }
      ]
    },
    {
      "cell_type": "code",
      "metadata": {
        "id": "0cezyKpz5gpx",
        "outputId": "99cebcaf-ef4f-4dd9-f635-618129cc979c",
        "colab": {
          "base_uri": "https://localhost:8080/",
          "height": 299
        }
      },
      "source": [
        "print(universidad.upper() )\n",
        "print(universidad)\n",
        "print(universidad.title() )\n",
        "#Eliminar espacios a la der e izq \\n\n",
        "universidad = universidad.strip()\n",
        "print(universidad)\n",
        "lista = universidad.split(\" \")\n",
        "print(lista)\n",
        "for l in lista:\n",
        "  if len (l) > 0:\n",
        "    nueva += l + \" \"\n",
        "print(nueva)\n",
        "\n",
        "numeros = \"19, 7, 84, 26, 10\"\n",
        "separados = numeros.split(\",\")\n",
        "print(separados)\n",
        "numeros_int= []\n",
        "for num in separados:\n",
        "  numeros_int.append ( int(num) )\n",
        "\n",
        "print(numeros_int)\n",
        "print(universidad)\n",
        "print(universidad.index(\"na\"))"
      ],
      "execution_count": 11,
      "outputs": [
        {
          "output_type": "stream",
          "text": [
            "  UNIVERSIDAD NACIONAL AUTONOMA DE MEXICO  \n",
            "  universidad nacional autonoma de mexico  \n",
            "  universidad nacional autonoma de mexico  \n",
            "  universidad nacional autonoma de mexico  \n"
          ],
          "name": "stdout"
        },
        {
          "output_type": "error",
          "ename": "ValueError",
          "evalue": "ignored",
          "traceback": [
            "\u001b[0;31m---------------------------------------------------------------------------\u001b[0m",
            "\u001b[0;31mValueError\u001b[0m                                Traceback (most recent call last)",
            "\u001b[0;32m<ipython-input-11-05798cd033d2>\u001b[0m in \u001b[0;36m<module>\u001b[0;34m()\u001b[0m\n\u001b[1;32m      4\u001b[0m \u001b[0;31m#eliminar espacios a la der e izq \\n\u001b[0m\u001b[0;34m\u001b[0m\u001b[0;34m\u001b[0m\u001b[0;34m\u001b[0m\u001b[0m\n\u001b[1;32m      5\u001b[0m \u001b[0mprint\u001b[0m\u001b[0;34m(\u001b[0m\u001b[0muniversidad\u001b[0m\u001b[0;34m)\u001b[0m\u001b[0;34m\u001b[0m\u001b[0;34m\u001b[0m\u001b[0m\n\u001b[0;32m----> 6\u001b[0;31m \u001b[0mlista\u001b[0m \u001b[0;34m=\u001b[0m \u001b[0muniversidad\u001b[0m\u001b[0;34m.\u001b[0m\u001b[0msplit\u001b[0m\u001b[0;34m(\u001b[0m\u001b[0;34m\"\"\u001b[0m\u001b[0;34m)\u001b[0m\u001b[0;34m\u001b[0m\u001b[0;34m\u001b[0m\u001b[0m\n\u001b[0m\u001b[1;32m      7\u001b[0m \u001b[0mprint\u001b[0m\u001b[0;34m(\u001b[0m\u001b[0mlista\u001b[0m\u001b[0;34m)\u001b[0m\u001b[0;34m\u001b[0m\u001b[0;34m\u001b[0m\u001b[0m\n\u001b[1;32m      8\u001b[0m \u001b[0mnueva\u001b[0m \u001b[0;34m=\u001b[0m\u001b[0;34m\"\"\u001b[0m\u001b[0;34m\u001b[0m\u001b[0;34m\u001b[0m\u001b[0m\n",
            "\u001b[0;31mValueError\u001b[0m: empty separator"
          ]
        }
      ]
    },
    {
      "cell_type": "code",
      "metadata": {
        "id": "c7kIUQeW_wgy"
      },
      "source": [
        "Universidad = \"universidad nacional autonoma de mexico\"\n",
        "print(Universidad)\n",
        "#selector de elementos dentro de un string\n",
        "print( Universidad [0] )\n",
        "universidad = Universidad.strip\n",
        "print( Universidad[ len(Universidad) -1])\n",
        "print(Universidad[-2])\n",
        "#slicing\n",
        "print(Universidad[ 12  :  22   :  1])\n",
        "print(Universidad [-1  :  -7   :  -1])\n",
        "\n",
        "#valores por defecto (0: long de la lista :1)\n",
        "print(Universidad[::2] )"
      ],
      "execution_count": null,
      "outputs": []
    },
    {
      "cell_type": "code",
      "metadata": {
        "id": "v8z3r3tjIyy7"
      },
      "source": [
        "print(bool(0))\n",
        "print(bool(12345))\n",
        "flag = 0\n",
        "print(bool(flag))\n",
        "print(True)"
      ],
      "execution_count": null,
      "outputs": []
    },
    {
      "cell_type": "code",
      "metadata": {
        "id": "7X-3Ao7TI6XV"
      },
      "source": [
        "#Este es un comentario de linea simple\n",
        "\n",
        "\"\"\"Este es  \n",
        "un comentario de \n",
        "linea multiple\n",
        "\"\"\""
      ],
      "execution_count": null,
      "outputs": []
    },
    {
      "cell_type": "code",
      "metadata": {
        "id": "DMJh10aII9bu"
      },
      "source": [
        "#con comas\n",
        "cantidad = 5\n",
        "precio_papas = 12\n",
        "precio_coca = 15\n",
        "print(cantidad, precio_papas, precio_coca)\n",
        "\n",
        "#son signo de operador str\n",
        "print(\"Hola\" + \" \" + \"Mundo\")\n",
        "print(cantidad + precio_papas + precio_coca)\n",
        "print(str(cantidad) + str(precio_papas) + str(precio_coca))"
      ],
      "execution_count": null,
      "outputs": []
    }
  ]
}