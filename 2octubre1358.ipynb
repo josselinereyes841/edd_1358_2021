{
  "nbformat": 4,
  "nbformat_minor": 0,
  "metadata": {
    "colab": {
      "name": "2octubre1358.ipynb",
      "provenance": [],
      "authorship_tag": "ABX9TyPBuXJxqoQWyGCwZS5mCW5E",
      "include_colab_link": true
    },
    "kernelspec": {
      "name": "python3",
      "display_name": "Python 3"
    }
  },
  "cells": [
    {
      "cell_type": "markdown",
      "metadata": {
        "id": "view-in-github",
        "colab_type": "text"
      },
      "source": [
        "<a href=\"https://colab.research.google.com/github/josselinereyes841/edd_1358_2021/blob/master/2octubre1358.ipynb\" target=\"_parent\"><img src=\"https://colab.research.google.com/assets/colab-badge.svg\" alt=\"Open In Colab\"/></a>"
      ]
    },
    {
      "cell_type": "markdown",
      "metadata": {
        "id": "S2j4GGd63yBu"
      },
      "source": [
        "#Tipos de dato\n",
        "\n",
        "- String              str\n",
        "-Enteros             int\n",
        "-Numeros flotantes   float\n",
        "-Logico              bool\n",
        "-Numero Complejo     complex\n",
        "-Listas              list\n",
        "-Tupla               tuple\n",
        "-Diccionarios        dict\n",
        "-Conjuntos           set"
      ]
    },
    {
      "cell_type": "code",
      "metadata": {
        "id": "Jyo5SoCTQMeM",
        "outputId": "764a0d91-9c96-4987-ee9d-841e11051a70",
        "colab": {
          "base_uri": "https://localhost:8080/"
        }
      },
      "source": [
        "#string puede emplear \"\" o `` o \"\"\"\"\"\"\n",
        "universidad = \"       universidad     nacional     autonoma     de     mexico    \"\n",
        "print(universidad)\n",
        "#cuando es una sola palabra, solo usa comillas simples.\n",
        "carrera = 'ICO'\n",
        "area = \"software\"\n",
        "division = 'Division de ciencias fisico matematicas'\n",
        "print(carrera,area)\n",
        "print(division)\n",
        "\n",
        "frase = \"\"\"\n",
        "Si funciona\n",
        "No lo\n",
        "Arregles!!!\n",
        "\"\"\"\n",
        "print (frase)"
      ],
      "execution_count": 7,
      "outputs": [
        {
          "output_type": "stream",
          "text": [
            "       universidad     nacional     autonoma     de     mexico    \n",
            "ICO software\n",
            "Division de ciencias fisico matematicas\n",
            "\n",
            "Si funciona\n",
            "No lo\n",
            "Arregles!!!\n",
            "\n"
          ],
          "name": "stdout"
        }
      ]
    },
    {
      "cell_type": "code",
      "metadata": {
        "id": "a5d5J9yxQS1B",
        "outputId": "3abce743-315f-41d6-9a56-9d4e1c22d521",
        "colab": {
          "base_uri": "https://localhost:8080/"
        }
      },
      "source": [
        "print(universidad.upper() )\n",
        "print(universidad)\n",
        "print(universidad.title() )\n",
        "#Eliminar espacios a la der e izq \\n\n",
        "universidad = universidad.strip()\n",
        "print(universidad)\n",
        "lista = universidad.split(\" \")\n",
        "print(lista)\n",
        "for l in lista:\n",
        "  if len (l) > 0:\n",
        "    nueva += l + \" \"\n",
        "print(nueva)\n",
        "\n",
        "numeros = \"19, 7, 84, 26, 10\"\n",
        "separados = numeros.split(\",\")\n",
        "print(separados)\n",
        "numeros_int= []\n",
        "for num in separados:\n",
        "  numeros_int.append ( int(num) )\n",
        "\n",
        "print(numeros_int)\n",
        "print(universidad)\n",
        "print(universidad.index(\"na\"))\n",
        "\n"
      ],
      "execution_count": 10,
      "outputs": [
        {
          "output_type": "stream",
          "text": [
            "UNIVERSIDAD     NACIONAL     AUTONOMA     DE     MEXICO\n",
            "universidad     nacional     autonoma     de     mexico\n",
            "Universidad     Nacional     Autonoma     De     Mexico\n",
            "universidad     nacional     autonoma     de     mexico\n",
            "['universidad', '', '', '', '', 'nacional', '', '', '', '', 'autonoma', '', '', '', '', 'de', '', '', '', '', 'mexico']\n",
            "mexico universidad nacional autonoma de mexico \n",
            "['19', ' 7', ' 84', ' 26', ' 10']\n",
            "[19, 7, 84, 26, 10]\n",
            "universidad     nacional     autonoma     de     mexico\n",
            "16\n"
          ],
          "name": "stdout"
        }
      ]
    },
    {
      "cell_type": "markdown",
      "metadata": {
        "id": "EoVTtFSrQe7R"
      },
      "source": [
        "#slicing\n",
        "Sintaxis [inicio: stop: incremneto]\n"
      ]
    },
    {
      "cell_type": "code",
      "metadata": {
        "id": "PaPi-s1hQlSQ"
      },
      "source": [
        "Universidad = \"universidad nacional autonoma de mexico\"\n",
        "print(Universidad)\n",
        "#selector de elementos dentro de un string\n",
        "print( Universidad [0] )\n",
        "universidad = Universidad.strip\n",
        "print( Universidad[ len(Universidad) -1])\n",
        "print(Universidad[-2])\n",
        "#slicing\n",
        "print(Universidad[ 12  :  22   :  1])\n",
        "print(Universidad [-1  :  -7   :  -1])\n",
        "\n",
        "#valores por defecto (0: long de la lista :1)\n",
        "print(Universidad[::2] )\n"
      ],
      "execution_count": null,
      "outputs": []
    },
    {
      "cell_type": "markdown",
      "metadata": {
        "id": "-2xHENsjQq-Z"
      },
      "source": [
        "#Bool\n",
        "acepta solo dos valores: true bool(1)\n",
        "false bool(0)"
      ]
    },
    {
      "cell_type": "code",
      "metadata": {
        "id": "XN_MJstiQvRC"
      },
      "source": [
        "print(bool(0))\n",
        "print(bool(12345))\n",
        "flag = 0\n",
        "print(bool(flag))\n",
        "print(True)\n"
      ],
      "execution_count": null,
      "outputs": []
    },
    {
      "cell_type": "markdown",
      "metadata": {
        "id": "zopzek0DQyIo"
      },
      "source": [
        "#comentarios\n",
        "\n",
        "para un comentario de una linea se usa #\n",
        "para un comentario de multiple  linea equivalemte a /* */ de java y de leng c se utiliza \"\"\" \"\"\"\n",
        "\n"
      ]
    },
    {
      "cell_type": "code",
      "metadata": {
        "id": "JuwxIVCiQ51A"
      },
      "source": [
        "#Este es un comentario de linea simple\n",
        "\n",
        "\"\"\"Este es  \n",
        "un comentario de \n",
        "linea multiple\n",
        "\"\"\""
      ],
      "execution_count": null,
      "outputs": []
    },
    {
      "cell_type": "markdown",
      "metadata": {
        "id": "mKWe_4jPQ-XH"
      },
      "source": [
        "#Funcion print\n",
        "Existen 4 formas de usar esta funcion.\n",
        "1. La primera es con (,).\n",
        "1. La siguiente es con signo + (+)\n",
        "1. con la funcion format() de la clase string\n",
        "1. con el operador f\"\""
      ]
    },
    {
      "cell_type": "code",
      "metadata": {
        "id": "Su_ZhrxkRDBA"
      },
      "source": [
        "#con comas\n",
        "cantidad = 5\n",
        "precio_papas = 12\n",
        "precio_coca = 15\n",
        "print(cantidad, precio_papas, precio_coca)\n",
        "\n",
        "#son signo de operador str\n",
        "print(\"Hola\" + \" \" + \"Mundo\")\n",
        "print(cantidad + precio_papas + precio_coca)\n",
        "print(str(cantidad) + str(precio_papas) + str(precio_coca))\n"
      ],
      "execution_count": null,
      "outputs": []
    }
  ]
}